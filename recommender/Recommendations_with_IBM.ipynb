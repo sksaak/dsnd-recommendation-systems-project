{
 "cells": [
  {
   "cell_type": "markdown",
   "metadata": {},
   "source": [
    "# Recommendation System Project: IBM Community\n",
    "\n",
    "## Table of Contents\n",
    "\n",
    "I. [Exploratory Data Analysis](#Exploratory-Data-Analysis)<br>\n",
    "II. [Rank Based Recommendations](#Rank)<br>\n",
    "III. [User-User Based Collaborative Filtering](#User-User)<br>\n",
    "IV. [Content Based Recommendations](#Content-Recs)<br>\n",
    "V. [Matrix Factorization](#Matrix-Fact)<br>\n",
    "VI. [Extras & Concluding](#conclusions)\n",
    "\n",
    "At the end of the notebook, you will find directions for how to submit your work.  Let's get started by importing the necessary libraries and reading in the data."
   ]
  },
  {
   "metadata": {
    "ExecuteTime": {
     "end_time": "2025-03-28T11:42:35.340421Z",
     "start_time": "2025-03-28T11:42:35.331893Z"
    }
   },
   "cell_type": "code",
   "source": [
    "import pandas\n",
    "# libraries\n",
    "import pandas as pd\n",
    "import numpy as np\n",
    "import matplotlib.pyplot as plt\n",
    "import project_tests as t\n",
    "import seaborn as sns\n"
   ],
   "outputs": [],
   "execution_count": 294
  },
  {
   "cell_type": "code",
   "metadata": {
    "ExecuteTime": {
     "end_time": "2025-03-28T11:42:36.182340Z",
     "start_time": "2025-03-28T11:42:36.063567Z"
    }
   },
   "source": [
    "# load data\n",
    "df = pd.read_csv(\n",
    "    'data/user-item-interactions.csv', \n",
    "    dtype={'article_id': int, 'title': str, 'email': str}\n",
    ")\n",
    "# Show df to get an idea of the data\n",
    "df.head()"
   ],
   "outputs": [
    {
     "data": {
      "text/plain": [
       "   Unnamed: 0  article_id  \\\n",
       "0           0        1430   \n",
       "1           1        1314   \n",
       "2           2        1429   \n",
       "3           3        1338   \n",
       "4           4        1276   \n",
       "\n",
       "                                                                              title  \\\n",
       "0  using pixiedust for fast, flexible, and easier data analysis and experimentation   \n",
       "1                                      healthcare python streaming application demo   \n",
       "2                                        use deep learning for image classification   \n",
       "3                                         ml optimization using cognitive assistant   \n",
       "4                                         deploy your python model as a restful api   \n",
       "\n",
       "                                      email  \n",
       "0  ef5f11f77ba020cd36e1105a00ab868bbdbf7fe7  \n",
       "1  083cbdfa93c8444beaa4c5f5e0f5f9198e4f9e0b  \n",
       "2  b96a4f2e92d8572034b1e9b28f9ac673765cd074  \n",
       "3  06485706b34a5c9bf2a0ecdac41daf7e7654ceb7  \n",
       "4  f01220c46fc92c6e6b161b1849de11faacd7ccb2  "
      ],
      "text/html": [
       "<div>\n",
       "<style scoped>\n",
       "    .dataframe tbody tr th:only-of-type {\n",
       "        vertical-align: middle;\n",
       "    }\n",
       "\n",
       "    .dataframe tbody tr th {\n",
       "        vertical-align: top;\n",
       "    }\n",
       "\n",
       "    .dataframe thead th {\n",
       "        text-align: right;\n",
       "    }\n",
       "</style>\n",
       "<table border=\"1\" class=\"dataframe\">\n",
       "  <thead>\n",
       "    <tr style=\"text-align: right;\">\n",
       "      <th></th>\n",
       "      <th>Unnamed: 0</th>\n",
       "      <th>article_id</th>\n",
       "      <th>title</th>\n",
       "      <th>email</th>\n",
       "    </tr>\n",
       "  </thead>\n",
       "  <tbody>\n",
       "    <tr>\n",
       "      <th>0</th>\n",
       "      <td>0</td>\n",
       "      <td>1430</td>\n",
       "      <td>using pixiedust for fast, flexible, and easier data analysis and experimentation</td>\n",
       "      <td>ef5f11f77ba020cd36e1105a00ab868bbdbf7fe7</td>\n",
       "    </tr>\n",
       "    <tr>\n",
       "      <th>1</th>\n",
       "      <td>1</td>\n",
       "      <td>1314</td>\n",
       "      <td>healthcare python streaming application demo</td>\n",
       "      <td>083cbdfa93c8444beaa4c5f5e0f5f9198e4f9e0b</td>\n",
       "    </tr>\n",
       "    <tr>\n",
       "      <th>2</th>\n",
       "      <td>2</td>\n",
       "      <td>1429</td>\n",
       "      <td>use deep learning for image classification</td>\n",
       "      <td>b96a4f2e92d8572034b1e9b28f9ac673765cd074</td>\n",
       "    </tr>\n",
       "    <tr>\n",
       "      <th>3</th>\n",
       "      <td>3</td>\n",
       "      <td>1338</td>\n",
       "      <td>ml optimization using cognitive assistant</td>\n",
       "      <td>06485706b34a5c9bf2a0ecdac41daf7e7654ceb7</td>\n",
       "    </tr>\n",
       "    <tr>\n",
       "      <th>4</th>\n",
       "      <td>4</td>\n",
       "      <td>1276</td>\n",
       "      <td>deploy your python model as a restful api</td>\n",
       "      <td>f01220c46fc92c6e6b161b1849de11faacd7ccb2</td>\n",
       "    </tr>\n",
       "  </tbody>\n",
       "</table>\n",
       "</div>"
      ]
     },
     "execution_count": 295,
     "metadata": {},
     "output_type": "execute_result"
    }
   ],
   "execution_count": 295
  },
  {
   "cell_type": "markdown",
   "metadata": {},
   "source": [
    "### <a class=\"anchor\" id=\"Exploratory-Data-Analysis\">Part I : Exploratory Data Analysis</a>\n",
    "\n",
    "Use the dictionary and cells below to provide some insight into the descriptive statistics of the data.\n",
    "\n",
    "`1.` Are there any missing values? If so, provide a count of missing values. If there are missing values in `email`, assign it the same id value `\"unknown_user\"`."
   ]
  },
  {
   "cell_type": "code",
   "metadata": {
    "ExecuteTime": {
     "end_time": "2025-03-28T11:42:36.204653Z",
     "start_time": "2025-03-28T11:42:36.183585Z"
    }
   },
   "source": [
    "# Some interactions do not have a user associated with it, assume the same user.\n",
    "df.info()"
   ],
   "outputs": [
    {
     "name": "stdout",
     "output_type": "stream",
     "text": [
      "<class 'pandas.core.frame.DataFrame'>\n",
      "RangeIndex: 45993 entries, 0 to 45992\n",
      "Data columns (total 4 columns):\n",
      " #   Column      Non-Null Count  Dtype \n",
      "---  ------      --------------  ----- \n",
      " 0   Unnamed: 0  45993 non-null  int64 \n",
      " 1   article_id  45993 non-null  int64 \n",
      " 2   title       45993 non-null  object\n",
      " 3   email       45976 non-null  object\n",
      "dtypes: int64(2), object(2)\n",
      "memory usage: 1.4+ MB\n"
     ]
    }
   ],
   "execution_count": 296
  },
  {
   "cell_type": "code",
   "metadata": {
    "ExecuteTime": {
     "end_time": "2025-03-28T11:42:36.209244Z",
     "start_time": "2025-03-28T11:42:36.206070Z"
    }
   },
   "source": [
    "print(f\"Number of Null email values is: \")"
   ],
   "outputs": [
    {
     "name": "stdout",
     "output_type": "stream",
     "text": [
      "Number of Null email values is: \n"
     ]
    }
   ],
   "execution_count": 297
  },
  {
   "cell_type": "code",
   "metadata": {
    "ExecuteTime": {
     "end_time": "2025-03-28T11:42:36.244468Z",
     "start_time": "2025-03-28T11:42:36.231839Z"
    }
   },
   "source": [
    "df[df.email.isna()]"
   ],
   "outputs": [
    {
     "data": {
      "text/plain": [
       "       Unnamed: 0  article_id  \\\n",
       "25131       25146        1016   \n",
       "29758       30157        1393   \n",
       "29759       30158          20   \n",
       "29760       30159        1174   \n",
       "29761       30160          62   \n",
       "35264       36016         224   \n",
       "35276       36029         961   \n",
       "35277       36030         268   \n",
       "35278       36031         268   \n",
       "35279       36032         268   \n",
       "35280       36033         268   \n",
       "35281       36034         415   \n",
       "35282       36035         846   \n",
       "35283       36036         268   \n",
       "35284       36037         162   \n",
       "42749       44112         647   \n",
       "42750       44113         965   \n",
       "\n",
       "                                                                       title  \\\n",
       "25131  why you should master r (even if it might eventually become obsolete)   \n",
       "29758                                           the nurse assignment problem   \n",
       "29759                working interactively with rstudio and notebooks in dsx   \n",
       "29760                          breast cancer wisconsin (diagnostic) data set   \n",
       "29761    data visualization: the importance of excluding unnecessary details   \n",
       "35264                                       using apply, sapply, lapply in r   \n",
       "35276                                         beyond parallelize and collect   \n",
       "35277                                          sector correlations shiny app   \n",
       "35278                                          sector correlations shiny app   \n",
       "35279                                          sector correlations shiny app   \n",
       "35280                                          sector correlations shiny app   \n",
       "35281             using machine learning to predict value of homes on airbnb   \n",
       "35282                            pearson correlation aggregation on sparksql   \n",
       "35283                                          sector correlations shiny app   \n",
       "35284          an introduction to stock market data analysis with r (part 1)   \n",
       "42749                                     getting started with apache mahout   \n",
       "42750                     data visualization playbook: revisiting the basics   \n",
       "\n",
       "      email  \n",
       "25131   NaN  \n",
       "29758   NaN  \n",
       "29759   NaN  \n",
       "29760   NaN  \n",
       "29761   NaN  \n",
       "35264   NaN  \n",
       "35276   NaN  \n",
       "35277   NaN  \n",
       "35278   NaN  \n",
       "35279   NaN  \n",
       "35280   NaN  \n",
       "35281   NaN  \n",
       "35282   NaN  \n",
       "35283   NaN  \n",
       "35284   NaN  \n",
       "42749   NaN  \n",
       "42750   NaN  "
      ],
      "text/html": [
       "<div>\n",
       "<style scoped>\n",
       "    .dataframe tbody tr th:only-of-type {\n",
       "        vertical-align: middle;\n",
       "    }\n",
       "\n",
       "    .dataframe tbody tr th {\n",
       "        vertical-align: top;\n",
       "    }\n",
       "\n",
       "    .dataframe thead th {\n",
       "        text-align: right;\n",
       "    }\n",
       "</style>\n",
       "<table border=\"1\" class=\"dataframe\">\n",
       "  <thead>\n",
       "    <tr style=\"text-align: right;\">\n",
       "      <th></th>\n",
       "      <th>Unnamed: 0</th>\n",
       "      <th>article_id</th>\n",
       "      <th>title</th>\n",
       "      <th>email</th>\n",
       "    </tr>\n",
       "  </thead>\n",
       "  <tbody>\n",
       "    <tr>\n",
       "      <th>25131</th>\n",
       "      <td>25146</td>\n",
       "      <td>1016</td>\n",
       "      <td>why you should master r (even if it might eventually become obsolete)</td>\n",
       "      <td>NaN</td>\n",
       "    </tr>\n",
       "    <tr>\n",
       "      <th>29758</th>\n",
       "      <td>30157</td>\n",
       "      <td>1393</td>\n",
       "      <td>the nurse assignment problem</td>\n",
       "      <td>NaN</td>\n",
       "    </tr>\n",
       "    <tr>\n",
       "      <th>29759</th>\n",
       "      <td>30158</td>\n",
       "      <td>20</td>\n",
       "      <td>working interactively with rstudio and notebooks in dsx</td>\n",
       "      <td>NaN</td>\n",
       "    </tr>\n",
       "    <tr>\n",
       "      <th>29760</th>\n",
       "      <td>30159</td>\n",
       "      <td>1174</td>\n",
       "      <td>breast cancer wisconsin (diagnostic) data set</td>\n",
       "      <td>NaN</td>\n",
       "    </tr>\n",
       "    <tr>\n",
       "      <th>29761</th>\n",
       "      <td>30160</td>\n",
       "      <td>62</td>\n",
       "      <td>data visualization: the importance of excluding unnecessary details</td>\n",
       "      <td>NaN</td>\n",
       "    </tr>\n",
       "    <tr>\n",
       "      <th>35264</th>\n",
       "      <td>36016</td>\n",
       "      <td>224</td>\n",
       "      <td>using apply, sapply, lapply in r</td>\n",
       "      <td>NaN</td>\n",
       "    </tr>\n",
       "    <tr>\n",
       "      <th>35276</th>\n",
       "      <td>36029</td>\n",
       "      <td>961</td>\n",
       "      <td>beyond parallelize and collect</td>\n",
       "      <td>NaN</td>\n",
       "    </tr>\n",
       "    <tr>\n",
       "      <th>35277</th>\n",
       "      <td>36030</td>\n",
       "      <td>268</td>\n",
       "      <td>sector correlations shiny app</td>\n",
       "      <td>NaN</td>\n",
       "    </tr>\n",
       "    <tr>\n",
       "      <th>35278</th>\n",
       "      <td>36031</td>\n",
       "      <td>268</td>\n",
       "      <td>sector correlations shiny app</td>\n",
       "      <td>NaN</td>\n",
       "    </tr>\n",
       "    <tr>\n",
       "      <th>35279</th>\n",
       "      <td>36032</td>\n",
       "      <td>268</td>\n",
       "      <td>sector correlations shiny app</td>\n",
       "      <td>NaN</td>\n",
       "    </tr>\n",
       "    <tr>\n",
       "      <th>35280</th>\n",
       "      <td>36033</td>\n",
       "      <td>268</td>\n",
       "      <td>sector correlations shiny app</td>\n",
       "      <td>NaN</td>\n",
       "    </tr>\n",
       "    <tr>\n",
       "      <th>35281</th>\n",
       "      <td>36034</td>\n",
       "      <td>415</td>\n",
       "      <td>using machine learning to predict value of homes on airbnb</td>\n",
       "      <td>NaN</td>\n",
       "    </tr>\n",
       "    <tr>\n",
       "      <th>35282</th>\n",
       "      <td>36035</td>\n",
       "      <td>846</td>\n",
       "      <td>pearson correlation aggregation on sparksql</td>\n",
       "      <td>NaN</td>\n",
       "    </tr>\n",
       "    <tr>\n",
       "      <th>35283</th>\n",
       "      <td>36036</td>\n",
       "      <td>268</td>\n",
       "      <td>sector correlations shiny app</td>\n",
       "      <td>NaN</td>\n",
       "    </tr>\n",
       "    <tr>\n",
       "      <th>35284</th>\n",
       "      <td>36037</td>\n",
       "      <td>162</td>\n",
       "      <td>an introduction to stock market data analysis with r (part 1)</td>\n",
       "      <td>NaN</td>\n",
       "    </tr>\n",
       "    <tr>\n",
       "      <th>42749</th>\n",
       "      <td>44112</td>\n",
       "      <td>647</td>\n",
       "      <td>getting started with apache mahout</td>\n",
       "      <td>NaN</td>\n",
       "    </tr>\n",
       "    <tr>\n",
       "      <th>42750</th>\n",
       "      <td>44113</td>\n",
       "      <td>965</td>\n",
       "      <td>data visualization playbook: revisiting the basics</td>\n",
       "      <td>NaN</td>\n",
       "    </tr>\n",
       "  </tbody>\n",
       "</table>\n",
       "</div>"
      ]
     },
     "execution_count": 298,
     "metadata": {},
     "output_type": "execute_result"
    }
   ],
   "execution_count": 298
  },
  {
   "cell_type": "code",
   "metadata": {
    "ExecuteTime": {
     "end_time": "2025-03-28T11:42:36.367873Z",
     "start_time": "2025-03-28T11:42:36.361451Z"
    }
   },
   "source": [
    "# Fill email NaNs with \"unknown_user\"\n",
    "df.loc[df['email'].isna(), 'email'] = 'unknown_user'"
   ],
   "outputs": [],
   "execution_count": 299
  },
  {
   "cell_type": "code",
   "metadata": {
    "ExecuteTime": {
     "end_time": "2025-03-28T11:42:36.509880Z",
     "start_time": "2025-03-28T11:42:36.503378Z"
    }
   },
   "source": [
    "# Check if no more NaNs \n",
    "df[df.email.isna()]"
   ],
   "outputs": [
    {
     "data": {
      "text/plain": [
       "Empty DataFrame\n",
       "Columns: [Unnamed: 0, article_id, title, email]\n",
       "Index: []"
      ],
      "text/html": [
       "<div>\n",
       "<style scoped>\n",
       "    .dataframe tbody tr th:only-of-type {\n",
       "        vertical-align: middle;\n",
       "    }\n",
       "\n",
       "    .dataframe tbody tr th {\n",
       "        vertical-align: top;\n",
       "    }\n",
       "\n",
       "    .dataframe thead th {\n",
       "        text-align: right;\n",
       "    }\n",
       "</style>\n",
       "<table border=\"1\" class=\"dataframe\">\n",
       "  <thead>\n",
       "    <tr style=\"text-align: right;\">\n",
       "      <th></th>\n",
       "      <th>Unnamed: 0</th>\n",
       "      <th>article_id</th>\n",
       "      <th>title</th>\n",
       "      <th>email</th>\n",
       "    </tr>\n",
       "  </thead>\n",
       "  <tbody>\n",
       "  </tbody>\n",
       "</table>\n",
       "</div>"
      ]
     },
     "execution_count": 300,
     "metadata": {},
     "output_type": "execute_result"
    }
   ],
   "execution_count": 300
  },
  {
   "cell_type": "markdown",
   "metadata": {},
   "source": [
    "`2.` What is the distribution of how many articles a user interacts with in the dataset?  Provide a visual and descriptive statistics to assist with giving a look at the number of times each user interacts with an article."
   ]
  },
  {
   "cell_type": "code",
   "metadata": {
    "ExecuteTime": {
     "end_time": "2025-03-28T11:42:36.676701Z",
     "start_time": "2025-03-28T11:42:36.652421Z"
    }
   },
   "source": [
    "# What are the descriptive statistics of the number of articles a user interacts with?\n",
    "df_user_articles = df.groupby('email')['article_id'].count().reset_index()\n",
    "df_user_articles.columns = ['email', 'article_count']\n",
    "df_user_articles[\"article_count\"].describe()"
   ],
   "outputs": [
    {
     "data": {
      "text/plain": [
       "count    5149.000000\n",
       "mean        8.932414\n",
       "std        16.801011\n",
       "min         1.000000\n",
       "25%         1.000000\n",
       "50%         3.000000\n",
       "75%         9.000000\n",
       "max       364.000000\n",
       "Name: article_count, dtype: float64"
      ]
     },
     "execution_count": 301,
     "metadata": {},
     "output_type": "execute_result"
    }
   ],
   "execution_count": 301
  },
  {
   "cell_type": "code",
   "metadata": {
    "ExecuteTime": {
     "end_time": "2025-03-28T11:42:52.837402Z",
     "start_time": "2025-03-28T11:42:36.713173Z"
    }
   },
   "source": [
    "# Create a plot of the number of articles read by each user\n",
    "sns.barplot(data=df_user_articles, x='article_count', y='email')\n",
    "plt.xlabel('number of articles')\n",
    "plt.ylabel('number of users')\n",
    "plt.yticks([])\n",
    "plt.title('Number of Users Reading Articles')\n",
    "plt.show()"
   ],
   "outputs": [
    {
     "data": {
      "text/plain": [
       "<Figure size 640x480 with 1 Axes>"
      ],
      "image/png": "[encoded data removed]"
     },
     "metadata": {},
     "output_type": "display_data"
    }
   ],
   "execution_count": 302
  },
  {
   "metadata": {
    "ExecuteTime": {
     "end_time": "2025-03-28T11:42:52.866103Z",
     "start_time": "2025-03-28T11:42:52.839168Z"
    }
   },
   "cell_type": "code",
   "source": [
    "article_counts = df.groupby('article_id')['email'].count().reset_index()\n",
    "article_counts.columns = ['article_id', 'read_count']\n",
    "article_counts['read_count'].describe()"
   ],
   "outputs": [
    {
     "data": {
      "text/plain": [
       "count    714.000000\n",
       "mean      64.415966\n",
       "std      109.175923\n",
       "min        1.000000\n",
       "25%        8.000000\n",
       "50%       25.000000\n",
       "75%       69.000000\n",
       "max      937.000000\n",
       "Name: read_count, dtype: float64"
      ]
     },
     "execution_count": 303,
     "metadata": {},
     "output_type": "execute_result"
    }
   ],
   "execution_count": 303
  },
  {
   "cell_type": "code",
   "metadata": {
    "ExecuteTime": {
     "end_time": "2025-03-28T11:42:53.905863Z",
     "start_time": "2025-03-28T11:42:52.867688Z"
    }
   },
   "source": [
    "# Create a plot of the number of times each article was read\n",
    "\n",
    "sns.barplot(data=article_counts, y='read_count', x='article_id')\n",
    "plt.xlabel('number of users')\n",
    "plt.ylabel('number of articles')\n",
    "plt.xticks([])\n",
    "plt.title('Distribution of Article Usage')\n",
    "plt.show()"
   ],
   "outputs": [
    {
     "data": {
      "text/plain": [
       "<Figure size 640x480 with 1 Axes>"
      ],
      "image/png": "[encoded data removed]"
     },
     "metadata": {},
     "output_type": "display_data"
    }
   ],
   "execution_count": 304
  },
  {
   "cell_type": "code",
   "metadata": {
    "ExecuteTime": {
     "end_time": "2025-03-28T11:42:53.910217Z",
     "start_time": "2025-03-28T11:42:53.907664Z"
    }
   },
   "source": [
    "# Fill in the median and maximum number of user_article interactions below\n",
    "\n",
    "median_val = np.median(df_user_articles[\"article_count\"]) # 50% of individuals interact with 3 number of articles or fewer.\n",
    "max_views_by_user =  np.max(df_user_articles[\"article_count\"])# The maximum number of user-article interactions by any 1 user is 364."
   ],
   "outputs": [],
   "execution_count": 305
  },
  {
   "cell_type": "markdown",
   "metadata": {},
   "source": [
    "`3.` Use the cells below to find:\n",
    "\n",
    "**a.** The number of unique articles that have an interaction with a user.  \n",
    "**b.** The number of unique articles in the dataset (whether they have any interactions or not).<br>\n",
    "**c.** The number of unique users in the dataset. (excluding null values) <br>\n",
    "**d.** The number of user-article interactions in the dataset."
   ]
  },
  {
   "cell_type": "code",
   "metadata": {
    "ExecuteTime": {
     "end_time": "2025-03-28T11:42:53.919239Z",
     "start_time": "2025-03-28T11:42:53.911054Z"
    }
   },
   "source": [
    "unique_articles = len(article_counts[article_counts[\"read_count\"] >= 1])\n",
    " # The number of unique articles that have at least one interaction\n",
    "total_articles = len(df[\"article_id\"].unique()) # The number of unique articles on the IBM platform\n",
    "unique_users =  len(df[\"email\"].unique()) # The number of unique users\n",
    "user_article_interactions = sum(article_counts[\"read_count\"]) # The number of user-article interactions"
   ],
   "outputs": [],
   "execution_count": 306
  },
  {
   "cell_type": "markdown",
   "metadata": {},
   "source": [
    "`4.` Use the cells below to find the most viewed **article_id**, as well as how often it was viewed.  After talking to the company leaders, the `email_mapper` function was deemed a reasonable way to map users to ids.  There were a small number of null values, and it was found that all of these null values likely belonged to a single user (which is how they are stored using the function below)."
   ]
  },
  {
   "cell_type": "code",
   "metadata": {
    "ExecuteTime": {
     "end_time": "2025-03-28T11:42:53.922804Z",
     "start_time": "2025-03-28T11:42:53.920127Z"
    }
   },
   "source": [
    "most_viewed_article_id =  article_counts.loc[article_counts[\"read_count\"].idxmax(), \"article_id\"]# The most viewed article in the dataset as a string with one value following the decimal \n",
    "max_views =  article_counts[\"read_count\"].max()# The most viewed article in the dataset was viewed how many times?"
   ],
   "outputs": [],
   "execution_count": 307
  },
  {
   "cell_type": "code",
   "metadata": {
    "ExecuteTime": {
     "end_time": "2025-03-28T11:42:53.952083Z",
     "start_time": "2025-03-28T11:42:53.923711Z"
    }
   },
   "source": [
    "## No need to change the code here - this will be helpful for later parts of the notebook\n",
    "# Run this cell to map the user email to a user_id column and remove the email column\n",
    "\n",
    "def email_mapper(df=df):\n",
    "    coded_dict = {\n",
    "        email: num \n",
    "        for num, email in enumerate(df['email'].unique(), start=1)\n",
    "    }\n",
    "    return [coded_dict[val] for val in df['email']]\n",
    "\n",
    "df['user_id'] = email_mapper(df)\n",
    "del df['email']\n",
    "\n",
    "# show header\n",
    "df.head()"
   ],
   "outputs": [
    {
     "data": {
      "text/plain": [
       "   Unnamed: 0  article_id  \\\n",
       "0           0        1430   \n",
       "1           1        1314   \n",
       "2           2        1429   \n",
       "3           3        1338   \n",
       "4           4        1276   \n",
       "\n",
       "                                                                              title  \\\n",
       "0  using pixiedust for fast, flexible, and easier data analysis and experimentation   \n",
       "1                                      healthcare python streaming application demo   \n",
       "2                                        use deep learning for image classification   \n",
       "3                                         ml optimization using cognitive assistant   \n",
       "4                                         deploy your python model as a restful api   \n",
       "\n",
       "   user_id  \n",
       "0        1  \n",
       "1        2  \n",
       "2        3  \n",
       "3        4  \n",
       "4        5  "
      ],
      "text/html": [
       "<div>\n",
       "<style scoped>\n",
       "    .dataframe tbody tr th:only-of-type {\n",
       "        vertical-align: middle;\n",
       "    }\n",
       "\n",
       "    .dataframe tbody tr th {\n",
       "        vertical-align: top;\n",
       "    }\n",
       "\n",
       "    .dataframe thead th {\n",
       "        text-align: right;\n",
       "    }\n",
       "</style>\n",
       "<table border=\"1\" class=\"dataframe\">\n",
       "  <thead>\n",
       "    <tr style=\"text-align: right;\">\n",
       "      <th></th>\n",
       "      <th>Unnamed: 0</th>\n",
       "      <th>article_id</th>\n",
       "      <th>title</th>\n",
       "      <th>user_id</th>\n",
       "    </tr>\n",
       "  </thead>\n",
       "  <tbody>\n",
       "    <tr>\n",
       "      <th>0</th>\n",
       "      <td>0</td>\n",
       "      <td>1430</td>\n",
       "      <td>using pixiedust for fast, flexible, and easier data analysis and experimentation</td>\n",
       "      <td>1</td>\n",
       "    </tr>\n",
       "    <tr>\n",
       "      <th>1</th>\n",
       "      <td>1</td>\n",
       "      <td>1314</td>\n",
       "      <td>healthcare python streaming application demo</td>\n",
       "      <td>2</td>\n",
       "    </tr>\n",
       "    <tr>\n",
       "      <th>2</th>\n",
       "      <td>2</td>\n",
       "      <td>1429</td>\n",
       "      <td>use deep learning for image classification</td>\n",
       "      <td>3</td>\n",
       "    </tr>\n",
       "    <tr>\n",
       "      <th>3</th>\n",
       "      <td>3</td>\n",
       "      <td>1338</td>\n",
       "      <td>ml optimization using cognitive assistant</td>\n",
       "      <td>4</td>\n",
       "    </tr>\n",
       "    <tr>\n",
       "      <th>4</th>\n",
       "      <td>4</td>\n",
       "      <td>1276</td>\n",
       "      <td>deploy your python model as a restful api</td>\n",
       "      <td>5</td>\n",
       "    </tr>\n",
       "  </tbody>\n",
       "</table>\n",
       "</div>"
      ]
     },
     "execution_count": 308,
     "metadata": {},
     "output_type": "execute_result"
    }
   ],
   "execution_count": 308
  },
  {
   "cell_type": "code",
   "metadata": {
    "ExecuteTime": {
     "end_time": "2025-03-28T11:42:53.956418Z",
     "start_time": "2025-03-28T11:42:53.952857Z"
    }
   },
   "source": [
    "## If you stored all your results in the variable names above, \n",
    "## you shouldn't need to change anything in this cell\n",
    "\n",
    "sol_1_dict = {\n",
    "    '`50% of individuals have _____ or fewer interactions.`': median_val,\n",
    "    '`The total number of user-article interactions in the dataset is ______.`': user_article_interactions,\n",
    "    '`The maximum number of user-article interactions by any 1 user is ______.`': max_views_by_user,\n",
    "    '`The most viewed article in the dataset was viewed _____ times.`': max_views,\n",
    "    '`The article_id of the most viewed article is ______.`': most_viewed_article_id,\n",
    "    '`The number of unique articles that have at least 1 rating ______.`': unique_articles,\n",
    "    '`The number of unique users in the dataset is ______`': unique_users,\n",
    "    '`The number of unique articles on the IBM platform`': total_articles\n",
    "}\n",
    "\n",
    "# Test your dictionary against the solution\n",
    "t.sol_1_test(sol_1_dict)"
   ],
   "outputs": [
    {
     "name": "stdout",
     "output_type": "stream",
     "text": [
      "It looks like you have everything right here! Nice job!\n"
     ]
    }
   ],
   "execution_count": 309
  },
  {
   "cell_type": "markdown",
   "metadata": {},
   "source": [
    "### <a class=\"anchor\" id=\"Rank\">Part II: Rank-Based Recommendations</a>\n",
    "\n",
    "In this project, we don't actually have ratings for whether a user liked an article or not.  We only know that a user has interacted with an article. In these cases, the popularity of an article can really only be based on how often an article was interacted with.\n",
    "\n",
    "`1.` Fill in the function below to return the **n** top articles ordered with most interactions as the top. Test your function using the tests below."
   ]
  },
  {
   "cell_type": "code",
   "metadata": {
    "ExecuteTime": {
     "end_time": "2025-03-28T11:42:53.960402Z",
     "start_time": "2025-03-28T11:42:53.957238Z"
    }
   },
   "source": [
    "def get_top_articles(n, df=df):\n",
    "    \"\"\"\n",
    "    INPUT:\n",
    "    n - (int) the number of top articles to return\n",
    "    df - (pandas dataframe) df as defined at the top of the notebook \n",
    "    \n",
    "    OUTPUT:\n",
    "    top_articles - (list) A list of the top 'n' article titles \n",
    "    \n",
    "    \"\"\"\n",
    "    top_articles = df.groupby('article_id')['user_id'].count().reset_index()\n",
    "    top_articles = top_articles.sort_values(by=\"user_id\", ascending= False)\n",
    "    top_articles = top_articles[\"article_id\"].iloc[0:n]\n",
    "    top_articles = df[df[\"article_id\"].isin(top_articles)][\"title\"].unique().tolist()\n",
    "    \n",
    "    return top_articles # Return the top article titles from df\n",
    "\n",
    "def get_top_article_ids(n, df=df):\n",
    "    \"\"\"\n",
    "    INPUT:\n",
    "    n - (int) the number of top articles to return\n",
    "    df - (pandas dataframe) df as defined at the top of the notebook \n",
    "    \n",
    "    OUTPUT:\n",
    "    top_articles - (list) A list of the top 'n' article ids \n",
    "    \n",
    "    \"\"\"\n",
    "    top_articles = df.groupby('article_id')['user_id'].count().reset_index()\n",
    "    top_articles = top_articles.sort_values(by=\"user_id\", ascending= False)\n",
    "    top_articles = top_articles[\"article_id\"].iloc[0:n].tolist()\n",
    " \n",
    "    return top_articles # Return the top article ids"
   ],
   "outputs": [],
   "execution_count": 310
  },
  {
   "cell_type": "code",
   "metadata": {
    "ExecuteTime": {
     "end_time": "2025-03-28T11:42:53.970811Z",
     "start_time": "2025-03-28T11:42:53.962804Z"
    }
   },
   "source": [
    "print(get_top_articles(10))\n",
    "print(get_top_article_ids(10))"
   ],
   "outputs": [
    {
     "name": "stdout",
     "output_type": "stream",
     "text": [
      "['healthcare python streaming application demo', 'use deep learning for image classification', 'apache spark lab, part 1: basic concepts', 'predicting churn with the spss random tree algorithm', 'analyze energy consumption in buildings', 'visualize car data with brunel', 'use xgboost, scikit-learn & ibm watson machine learning apis', 'gosales transactions for logistic regression model', 'insights from new york car accident reports', 'finding optimal locations of new store using decision optimization']\n",
      "[1429, 1330, 1431, 1427, 1364, 1314, 1293, 1170, 1162, 1304]\n"
     ]
    }
   ],
   "execution_count": 311
  },
  {
   "cell_type": "code",
   "metadata": {
    "ExecuteTime": {
     "end_time": "2025-03-28T11:42:53.995767Z",
     "start_time": "2025-03-28T11:42:53.971575Z"
    }
   },
   "source": [
    "# Test your function by returning the top 5, 10, and 20 articles\n",
    "top_5 = get_top_articles(5)\n",
    "top_10 = get_top_articles(10)\n",
    "top_20 = get_top_articles(20)\n",
    "\n",
    "# Test each of your three lists from above\n",
    "t.sol_2_test(get_top_articles)"
   ],
   "outputs": [
    {
     "name": "stdout",
     "output_type": "stream",
     "text": [
      "Your top_5 looks like the solution list! Nice job.\n",
      "Your top_10 looks like the solution list! Nice job.\n",
      "Your top_20 looks like the solution list! Nice job.\n"
     ]
    }
   ],
   "execution_count": 312
  },
  {
   "cell_type": "markdown",
   "metadata": {},
   "source": [
    "### <a class=\"anchor\" id=\"User-User\">Part III: User-User Based Collaborative Filtering</a>\n",
    "\n",
    "\n",
    "`1.` Use the function below to reformat the **df** dataframe to be shaped with users as the rows and articles as the columns.  \n",
    "\n",
    "* Each **user** should only appear in each **row** once.\n",
    "\n",
    "\n",
    "* Each **article** should only show up in one **column**.  \n",
    "\n",
    "\n",
    "* **If a user has interacted with an article, then place a 1 where the user-row meets for that article-column**.  It does not matter how many times a user has interacted with the article, all entries where a user has interacted with an article should be a 1.  \n",
    "\n",
    "\n",
    "* **If a user has not interacted with an item, then place a zero where the user-row meets for that article-column**. \n",
    "\n",
    "Use the tests to make sure the basic structure of your matrix matches what is expected by the solution."
   ]
  },
  {
   "cell_type": "code",
   "metadata": {
    "ExecuteTime": {
     "end_time": "2025-03-28T11:42:54.151830Z",
     "start_time": "2025-03-28T11:42:53.996580Z"
    }
   },
   "source": [
    "# create the user-article matrix with 1's and 0's\n",
    "\n",
    "def create_user_item_matrix(df, fill_value=0):\n",
    "    \"\"\"\n",
    "    INPUT:\n",
    "    df - pandas dataframe with article_id, title, user_id columns\n",
    "    \n",
    "    OUTPUT:\n",
    "    user_item - user item matrix \n",
    "    \n",
    "    Description:\n",
    "    Return a matrix with user ids as rows and article ids on the columns with 1 values where a user interacted with \n",
    "    an article and a 0 otherwise\n",
    "    \"\"\"\n",
    "    \n",
    "    # convert to string to ensure correct column renaming\n",
    "   \n",
    "    data = df.copy()\n",
    "    data['article_id'] = data['article_id'].astype(str)\n",
    "    \n",
    "    unique_article_ids = data['article_id'].unique()\n",
    "\n",
    "    # pivot data\n",
    "    user_item = data[data['article_id'].isin(unique_article_ids)].pivot_table(\n",
    "        index='user_id', \n",
    "        columns='article_id', \n",
    "        aggfunc='size',  # Count occurrences of interactions\n",
    "        fill_value=0\n",
    "    )\n",
    "\n",
    "    # ensure that pivoted table is binary \n",
    "    user_item[user_item >= 1] = 1\n",
    "    \n",
    "    return user_item # return the user_item matrix \n",
    "\n",
    "user_item = create_user_item_matrix(df)"
   ],
   "outputs": [],
   "execution_count": 313
  },
  {
   "cell_type": "code",
   "metadata": {
    "ExecuteTime": {
     "end_time": "2025-03-28T11:42:54.159399Z",
     "start_time": "2025-03-28T11:42:54.152763Z"
    }
   },
   "source": [
    "## Tests: You should just need to run this cell.  Don't change the code.\n",
    "assert user_item.shape[0] == 5149, \"Oops!  The number of users in the user-article matrix doesn't look right.\"\n",
    "assert user_item.shape[1] == 714, \"Oops!  The number of articles in the user-article matrix doesn't look right.\"\n",
    "assert user_item.sum(axis=1)[1] == 36, \"Oops!  The number of articles seen by user 1 doesn't look right.\"\n",
    "print(\"You have passed our quick tests!  Please proceed!\")"
   ],
   "outputs": [
    {
     "name": "stdout",
     "output_type": "stream",
     "text": [
      "You have passed our quick tests!  Please proceed!\n"
     ]
    }
   ],
   "execution_count": 314
  },
  {
   "cell_type": "markdown",
   "metadata": {},
   "source": [
    "`2.` Complete the function below which should take a user_id and provide an ordered list of the most similar users to that user (from most similar to least similar).  The returned result should not contain the provided user_id, as we know that each user is similar to him/herself. Because the results for each user here are binary, it (perhaps) makes sense to compute similarity as the dot product of two users. \n",
    "\n",
    "Use the tests to test your function."
   ]
  },
  {
   "cell_type": "code",
   "metadata": {
    "ExecuteTime": {
     "end_time": "2025-03-28T11:42:54.163058Z",
     "start_time": "2025-03-28T11:42:54.160584Z"
    }
   },
   "source": [
    "# Lets use the cosine_similarity function from sklearn\n",
    "from sklearn.metrics.pairwise import cosine_similarity"
   ],
   "outputs": [],
   "execution_count": 315
  },
  {
   "cell_type": "code",
   "metadata": {
    "ExecuteTime": {
     "end_time": "2025-03-28T11:42:54.169977Z",
     "start_time": "2025-03-28T11:42:54.164761Z"
    }
   },
   "source": [
    "def find_similar_users(user_id, user_item=user_item, include_similarity=False):\n",
    "    \"\"\"\n",
    "    INPUT:\n",
    "    user_id - (int) a user_id\n",
    "    user_item - (pandas dataframe) matrix of users by articles: \n",
    "                1's when a user has interacted with an article, 0 otherwise\n",
    "    include_similarity - (bool) whether to include the similarity in the output\n",
    "    \n",
    "    OUTPUT:\n",
    "    similar_users - (list) an ordered list where the closest users (largest dot product users)\n",
    "                    are listed first\n",
    "    \n",
    "    Description:\n",
    "    Computes the similarity of every pair of users based on the dot product\n",
    "    Returns an ordered list of user ids. If include_similarity is True, returns a list of lists\n",
    "    where the first element is the user id and the second the similarity.\n",
    "    \n",
    "    \"\"\"\n",
    "    \n",
    "    # initialize user to be tested\n",
    "    user_id -=1 # correct for 0 indexing in python \n",
    "    user1 = user_item.iloc[user_id].values.reshape(1, -1)\n",
    "    row_ids = range(len(user_item))\n",
    "    user_ids = range(1, len(user_item)+1) # user_ids start with 1\n",
    "    similarity = []\n",
    "    \n",
    "    # iterate across user rows and calculate cosine similarity\n",
    "    for row in row_ids:\n",
    "        user2 = user_item.iloc[row].values.reshape(1, -1)\n",
    "        sim = cosine_similarity(user1, user2)\n",
    "        similarity.append(sim[0][0])\n",
    "\n",
    "    # store similarity next to user_id\n",
    "    sim_df = pd.DataFrame({\"similarity\": similarity,\n",
    "                           \"user_id\": user_ids})\n",
    "    # remove the own user's id\n",
    "    sim_df = sim_df.drop(user_id)\n",
    "    \n",
    "    # sort by similarity\n",
    "    sim_df = sim_df.sort_values(by=[\"similarity\"], ascending= False)\n",
    "    \n",
    "    # create list of just the ids\n",
    "    ids = sim_df[\"user_id\"].tolist()\n",
    "    # create list of just the similarities\n",
    "    sim = sim_df[\"similarity\"].tolist()\n",
    "    \n",
    "    if include_similarity:\n",
    "        return  ids, sim\n",
    "    return ids # return a list of the users in order from most to least similar\n",
    "        "
   ],
   "outputs": [],
   "execution_count": 316
  },
  {
   "cell_type": "code",
   "metadata": {
    "ExecuteTime": {
     "end_time": "2025-03-28T11:42:59.570962Z",
     "start_time": "2025-03-28T11:42:54.170973Z"
    }
   },
   "source": [
    "# Do a spot check of your function\n",
    "print(\"The 10 most similar users to user 1 are: {}\".format(find_similar_users(1)[:10]))\n",
    "print(\"The 5 most similar users to user 3933 are: {}\".format(find_similar_users(3933)[:5]))\n",
    "print(\"The 3 most similar users to user 46 are: {}\".format(find_similar_users(46)[:3]))"
   ],
   "outputs": [
    {
     "name": "stdout",
     "output_type": "stream",
     "text": [
      "The 10 most similar users to user 1 are: [3933, 46, 4201, 253, 824, 5034, 5041, 136, 2305, 395]\n",
      "The 5 most similar users to user 3933 are: [1, 4201, 46, 253, 5034]\n",
      "The 3 most similar users to user 46 are: [4201, 790, 5077]\n"
     ]
    }
   ],
   "execution_count": 317
  },
  {
   "cell_type": "markdown",
   "metadata": {},
   "source": [
    "`3.` Now that you have a function that provides the most similar users to each user, you will want to use these users to find articles you can recommend.  Complete the functions below to return the articles you would recommend to each user. "
   ]
  },
  {
   "cell_type": "code",
   "metadata": {
    "ExecuteTime": {
     "end_time": "2025-03-28T11:42:59.608718Z",
     "start_time": "2025-03-28T11:42:59.573205Z"
    }
   },
   "source": [
    "def get_article_names(article_ids, df=df):\n",
    "    \"\"\"\n",
    "    INPUT:\n",
    "    article_ids - (list) a list of article ids\n",
    "    df - (pandas dataframe) df as defined at the top of the notebook\n",
    "    \n",
    "    OUTPUT:\n",
    "    article_names - (list) a list of article names associated with the list of article ids \n",
    "                    (this is identified by the title column in df)\n",
    "    \"\"\"\n",
    "    \n",
    "    article_names = df.loc[df['article_id'].isin(article_ids), \"title\"].unique()\n",
    "    \n",
    "    \n",
    "    return article_names # Return the article names associated with list of article ids\n",
    "\n",
    "def get_ranked_article_unique_counts(article_ids, user_item=user_item):\n",
    "    \"\"\"\n",
    "    INPUT:\n",
    "    user_id - (int) a user id\n",
    "    user_item - (pandas dataframe) matrix of users by articles: \n",
    "                1's when a user has interacted with an article, 0 otherwise \n",
    "    \n",
    "    OUTPUT:\n",
    "    article_counts - (list) a list of tuples with article_id and number of \n",
    "                     unique users that have interacted with the article, sorted\n",
    "                     by the number of unique users in descending order\n",
    "    \n",
    "    Description:\n",
    "    Provides a list of the article_ids and the number of unique users that have\n",
    "    interacted with the article using the user_item matrix, sorted by the number\n",
    "    of unique users in descending order\n",
    "    \"\"\"\n",
    "    article_ids_str = list(map(str, article_ids))\n",
    "    rauc = pd.DataFrame({\"article_id\": article_ids,\n",
    "                     \"interactions\": user_item[article_ids_str].sum()})\n",
    "    rauc = rauc.sort_values(by=\"interactions\", ascending= False)\n",
    "\n",
    "    ranked_article_unique_counts = rauc[[\"article_id\", \"interactions\"]].values.tolist()\n",
    "    \n",
    "    return ranked_article_unique_counts\n",
    "\n",
    "\n",
    "def get_user_articles(user_id, user_item=user_item):\n",
    "    \"\"\"\n",
    "    INPUT:\n",
    "    user_id - (int) a user id\n",
    "    user_item - (pandas dataframe) matrix of users by articles: \n",
    "                1's when a user has interacted with an article, 0 otherwise\n",
    "    \n",
    "    OUTPUT:\n",
    "    article_ids - (list) a list of the article ids seen by the user\n",
    "    article_names - (list) a list of article names associated with the list of article ids \n",
    "                    (this is identified by the title column in df)\n",
    "    \n",
    "    Description:\n",
    "    Provides a list of the article_ids and article titles that have been seen by a user\n",
    "    \"\"\"\n",
    "    \n",
    "    user = user_item.iloc[user_id-1]\n",
    "\n",
    "    article_ids = user[user == 1].index.tolist()\n",
    "    \n",
    "    article_ids = list(map(int, article_ids))\n",
    "\n",
    "    article_names = get_article_names(article_ids)\n",
    "    \n",
    "    \n",
    "    return article_ids, article_names # return the ids and names\n",
    "\n",
    "\n",
    "def user_user_recs(user_id, m=10):\n",
    "    \"\"\"\n",
    "    INPUT:\n",
    "    user_id - (int) a user id\n",
    "    m - (int) the number of recommendations you want for the user\n",
    "    \n",
    "    OUTPUT:\n",
    "    recs - (list) a list of recommendations for the user\n",
    "    \n",
    "    Description:\n",
    "    Loops through the users based on closeness to the input user_id\n",
    "    For each user - finds articles the user hasn't seen before and provides them as recs\n",
    "    Does this until m recommendations are found\n",
    "    \n",
    "    Notes:\n",
    "    Users who are the same closeness are chosen arbitrarily as the 'next' user\n",
    "    \n",
    "    For the user where the number of recommended articles starts below m \n",
    "    and ends exceeding m, the last items are chosen arbitrarily\n",
    "    \n",
    "    \"\"\"\n",
    "    \n",
    "    similar_users, similar_score = find_similar_users(user_id, include_similarity=True)\n",
    "    recs = [] # initalize recs\n",
    "    user = user_item.iloc[user_id] # initialize user\n",
    "\n",
    "    for u in range(0,len(similar_users)):\n",
    "        id = similar_users[u]\n",
    "        sim_user = user_item.iloc[id]\n",
    "        result = user_item.columns[(sim_user == 1) & (user == 0)].tolist()\n",
    "        \n",
    "        recs.extend([item for item in result if item not in recs])\n",
    "        \n",
    "        # Check if we have enough recommendations\n",
    "        n_recs = len(recs)\n",
    "        if n_recs >= m:\n",
    "            break  # Exit loop if we have enough recommendations\n",
    "    \n",
    "        recs = recs[:m]\n",
    "    \n",
    "    recs = list(map(int, recs))  \n",
    "    \n",
    "    return recs # return your recommendations for this user_id    "
   ],
   "outputs": [],
   "execution_count": 318
  },
  {
   "cell_type": "code",
   "metadata": {
    "ExecuteTime": {
     "end_time": "2025-03-28T11:43:00.664708Z",
     "start_time": "2025-03-28T11:42:59.609891Z"
    }
   },
   "source": [
    "# Check Results\n",
    "get_article_names(user_user_recs(1, 10)) # Return 10 recommendations for user 1"
   ],
   "outputs": [
    {
     "data": {
      "text/plain": [
       "array(['classify tumors with machine learning',\n",
       "       'housing (2015): united states demographic measures',\n",
       "       'access db2 warehouse on cloud and db2 with python',\n",
       "       'analyze energy consumption in buildings',\n",
       "       'pixieapp for outlier detection', 'analyze precipitation data',\n",
       "       '520    using notebooks with pixiedust for fast, flexi...\\nName: title, dtype: object',\n",
       "       'analyze traffic data from the city of san francisco',\n",
       "       'use spark for scala to load data and run sql queries',\n",
       "       'uci: car evaluation',\n",
       "       'learn basics about notebooks and apache spark',\n",
       "       'analyze db2 warehouse on cloud data in rstudio in dsx',\n",
       "       'customer demographics and sales', 'word2vec in data products',\n",
       "       'using machine learning to predict value of homes on airbnb',\n",
       "       'i am not a data scientist – ibm watson data lab',\n",
       "       'hurricane how-to', 'automating web analytics through python',\n",
       "       '3 scenarios for machine learning on multicloud',\n",
       "       'collect your own fitbit data with python',\n",
       "       'working with ibm cloud object storage in python',\n",
       "       'watson machine learning for developers',\n",
       "       'social media insights with watson developer cloud & watson studio'],\n",
       "      dtype=object)"
      ]
     },
     "execution_count": 319,
     "metadata": {},
     "output_type": "execute_result"
    }
   ],
   "execution_count": 319
  },
  {
   "cell_type": "code",
   "metadata": {
    "ExecuteTime": {
     "end_time": "2025-03-28T11:43:00.669964Z",
     "start_time": "2025-03-28T11:43:00.665738Z"
    }
   },
   "source": [
    "get_ranked_article_unique_counts([1320, 232, 844])"
   ],
   "outputs": [
    {
     "data": {
      "text/plain": [
       "[[1320, 123], [844, 78], [232, 62]]"
      ]
     },
     "execution_count": 320,
     "metadata": {},
     "output_type": "execute_result"
    }
   ],
   "execution_count": 320
  },
  {
   "metadata": {
    "ExecuteTime": {
     "end_time": "2025-03-28T11:43:00.675155Z",
     "start_time": "2025-03-28T11:43:00.670809Z"
    }
   },
   "cell_type": "code",
   "source": "get_article_names([1024, 1176, 1305, 1314, 1422, 1427])",
   "outputs": [
    {
     "data": {
      "text/plain": [
       "array(['healthcare python streaming application demo',\n",
       "       'use xgboost, scikit-learn & ibm watson machine learning apis',\n",
       "       'gosales transactions for naive bayes model',\n",
       "       'use r dataframes & ibm watson natural language understanding',\n",
       "       'build a python app on the streaming analytics service',\n",
       "       'using deep learning to reconstruct high-resolution audio'],\n",
       "      dtype=object)"
      ]
     },
     "execution_count": 321,
     "metadata": {},
     "output_type": "execute_result"
    }
   ],
   "execution_count": 321
  },
  {
   "cell_type": "code",
   "metadata": {
    "ExecuteTime": {
     "end_time": "2025-03-28T11:43:00.690600Z",
     "start_time": "2025-03-28T11:43:00.675994Z"
    }
   },
   "source": [
    "# Test your functions here - No need to change this code - just run this cell\n",
    "assert set(get_article_names([1024, 1176, 1305, 1314, 1422, 1427])) == set(['using deep learning to reconstruct high-resolution audio', 'build a python app on the streaming analytics service', 'gosales transactions for naive bayes model', 'healthcare python streaming application demo', 'use r dataframes & ibm watson natural language understanding', 'use xgboost, scikit-learn & ibm watson machine learning apis']), \"Oops! Your the get_article_names function doesn't work quite how we expect.\"\n",
    "assert set(get_article_names([1320, 232, 844])) == set(['housing (2015): united states demographic measures','self-service data preparation with ibm data refinery','use the cloudant-spark connector in python notebook']), \"Oops! Your the get_article_names function doesn't work quite how we expect.\"\n",
    "assert set(get_user_articles(20)[0]) == set([1320, 232, 844])\n",
    "assert set(get_user_articles(20)[1]) == set(['housing (2015): united states demographic measures', 'self-service data preparation with ibm data refinery','use the cloudant-spark connector in python notebook'])\n",
    "assert set(get_user_articles(2)[0]) == set([1024, 1176, 1305, 1314, 1422, 1427])\n",
    "assert set(get_user_articles(2)[1]) == set(['using deep learning to reconstruct high-resolution audio', 'build a python app on the streaming analytics service', 'gosales transactions for naive bayes model', 'healthcare python streaming application demo', 'use r dataframes & ibm watson natural language understanding', 'use xgboost, scikit-learn & ibm watson machine learning apis'])\n",
    "assert get_ranked_article_unique_counts([1320, 232, 844])[0] == [1320, 123], \"Oops! Your the get_ranked_article_unique_counts function doesn't work quite how we expect.\\nMake sure you are using the user_item matrix to create the article counts.\"\n",
    "print(\"If this is all you see, you passed all of our tests!  Nice job!\")"
   ],
   "outputs": [
    {
     "name": "stdout",
     "output_type": "stream",
     "text": [
      "If this is all you see, you passed all of our tests!  Nice job!\n"
     ]
    }
   ],
   "execution_count": 322
  },
  {
   "cell_type": "markdown",
   "metadata": {},
   "source": [
    "`4.` Now we are going to improve the consistency of the **user_user_recs** function from above.  \n",
    "\n",
    "* Instead of arbitrarily choosing when we obtain users who are all the same closeness to a given user - choose the users that have the most total article interactions before choosing those with fewer article interactions.\n",
    "\n",
    "\n",
    "* Instead of arbitrarily choosing articles from the user where the number of recommended articles starts below m and ends exceeding m, choose articles with the articles with the most total interactions before choosing those with fewer total interactions. This ranking should be  what would be obtained from the **top_articles** function you wrote earlier."
   ]
  },
  {
   "metadata": {
    "ExecuteTime": {
     "end_time": "2025-03-28T11:43:01.735328Z",
     "start_time": "2025-03-28T11:43:00.691422Z"
    }
   },
   "cell_type": "code",
   "source": [
    "user_id = 2\n",
    "user_ids, sim = find_similar_users(user_id, include_similarity=True)\n",
    "\n",
    "neighbors_df = pd.DataFrame({'neighbor_id':user_ids,\n",
    "                                     'similarity':sim})\n",
    "\n"
   ],
   "outputs": [],
   "execution_count": 323
  },
  {
   "metadata": {
    "ExecuteTime": {
     "end_time": "2025-03-28T11:43:01.964248Z",
     "start_time": "2025-03-28T11:43:01.736061Z"
    }
   },
   "cell_type": "code",
   "source": [
    "num_interactions = []\n",
    "for row in range(len(neighbors_df)):\n",
    "    id = int(neighbors_df.iloc[row]['neighbor_id'])-1 # correct id for 0 start \n",
    "    num_interactions.append(user_item.iloc[id].sum())\n",
    "    \n",
    "neighbors_df[\"num_interactions\"] = num_interactions"
   ],
   "outputs": [],
   "execution_count": 324
  },
  {
   "metadata": {
    "ExecuteTime": {
     "end_time": "2025-03-28T11:43:01.969142Z",
     "start_time": "2025-03-28T11:43:01.965388Z"
    }
   },
   "cell_type": "code",
   "source": [
    "def get_top_sorted_users(user_id, user_item=user_item):\n",
    "    \"\"\"\n",
    "    INPUT:\n",
    "    user_id - (int)\n",
    "    user_item - (pandas dataframe) matrix of users by articles: \n",
    "            1's when a user has interacted with an article, 0 otherwise\n",
    "    \n",
    "            \n",
    "    OUTPUT:\n",
    "    neighbors_df - (pandas dataframe) a dataframe with:\n",
    "                    neighbor_id - is a neighbor user_id\n",
    "                    similarity - measure of the similarity of each user to the provided user_id\n",
    "                    num_interactions - the number of articles viewed by the user\n",
    "                    \n",
    "    Other Details - sort the neighbors_df by the similarity and then by number of interactions where \n",
    "                    highest of each is higher in the dataframe, i.e. Descending order\n",
    "     \n",
    "    \"\"\"\n",
    "    user_ids, sim = find_similar_users(user_id, include_similarity=True)\n",
    "\n",
    "    neighbors_df = pd.DataFrame({'neighbor_id':user_ids,\n",
    "                                     'similarity':sim})\n",
    "    num_interactions = []\n",
    "    for row in range(len(neighbors_df)):\n",
    "        id = int(neighbors_df.iloc[row]['neighbor_id'])-1\n",
    "        num_interactions.append(user_item.iloc[id].sum())\n",
    "    \n",
    "    neighbors_df[\"num_interactions\"] = num_interactions\n",
    "\n",
    "    neighbors_df.sort_values(by=[\"similarity\",'num_interactions'], ascending=False, inplace=True, ignore_index=True)\n",
    "    \n",
    "    return neighbors_df # Return the dataframe specified in the doc_string"
   ],
   "outputs": [],
   "execution_count": 325
  },
  {
   "cell_type": "code",
   "metadata": {
    "ExecuteTime": {
     "end_time": "2025-03-28T11:43:01.974319Z",
     "start_time": "2025-03-28T11:43:01.970030Z"
    }
   },
   "source": [
    "def user_user_recs_part2(user_id, m=10):\n",
    "    \"\"\"\n",
    "    INPUT:\n",
    "    user_id - (int) a user id\n",
    "    m - (int) the number of recommendations you want for the user\n",
    "    \n",
    "    OUTPUT:\n",
    "    recs - (list) a list of recommendations for the user by article id\n",
    "    rec_names - (list) a list of recommendations for the user by article title\n",
    "    \n",
    "    Description:\n",
    "    Loops through the users based on closeness to the input user_id\n",
    "    For each user - finds articles the user hasn't seen before and provides them as recs\n",
    "    Does this until m recommendations are found\n",
    "    \n",
    "    Notes:\n",
    "    * Choose the users that have the most total article interactions \n",
    "    before choosing those with fewer article interactions.\n",
    "\n",
    "    * Choose articles with the articles with the most total interactions \n",
    "    before choosing those with fewer total interactions. \n",
    "   \n",
    "    \"\"\"\n",
    "    top_sorted_users = get_top_sorted_users(user_id)\n",
    "    recs = [] # initalize recs\n",
    "    user = user_item.iloc[user_id] # initialize user\n",
    "\n",
    "    for u in range(0,len(top_sorted_users)):\n",
    "        id = top_sorted_users[\"neighbor_id\"][u]\n",
    "        sim_user = user_item.iloc[id]\n",
    "        result = user_item.columns[(sim_user == 1) & (user == 0)].tolist()\n",
    "            \n",
    "        recs.extend([item for item in result if item not in recs])\n",
    "            \n",
    "        # Check if we have enough recommendations\n",
    "        n_recs = len(recs)\n",
    "        if n_recs >= m:\n",
    "            break  # Exit loop if we have enough recommendations\n",
    "        \n",
    "    recs = recs[:m]\n",
    "    recs = list(map(int, recs))\n",
    "\n",
    "    # sort articles by most total interaction \n",
    "    recs_df = df[df[\"article_id\"].isin(recs)]\n",
    "    recs_df = recs_df.groupby(\"article_id\")[\"user_id\"].count().reset_index()\n",
    "    recs_df.columns = [\"article_id\", \"count\"]\n",
    "    recs_df = recs_df.sort_values(by=\"count\", ascending=False).reset_index(drop=True)\n",
    "\n",
    "    recs = recs_df[\"article_id\"].tolist()\n",
    "    \n",
    "    return recs, get_article_names(recs) # return your recommendations for this user_id"
   ],
   "outputs": [],
   "execution_count": 326
  },
  {
   "cell_type": "code",
   "metadata": {
    "ExecuteTime": {
     "end_time": "2025-03-28T11:43:03.279856Z",
     "start_time": "2025-03-28T11:43:01.975325Z"
    }
   },
   "source": [
    "# Quick spot check - don't change this code - just use it to test your functions\n",
    "rec_ids, rec_names = user_user_recs_part2(20, 10)\n",
    "print(\"The top 10 recommendations for user 20 are the following article ids:\")\n",
    "print(rec_ids)\n",
    "print()\n",
    "print(\"The top 10 recommendations for user 20 are the following article names:\")\n",
    "print(rec_names)"
   ],
   "outputs": [
    {
     "name": "stdout",
     "output_type": "stream",
     "text": [
      "The top 10 recommendations for user 20 are the following article ids:\n",
      "[1398, 1282, 1424, 682, 1059, 911, 1286, 113, 522, 1146]\n",
      "\n",
      "The top 10 recommendations for user 20 are the following article names:\n",
      "['airbnb data for analytics: amsterdam calendar'\n",
      " 'using machine learning to predict baseball injuries'\n",
      " 'total population by country'\n",
      " 'easy json loading and social sharing in dsx notebooks'\n",
      " 'use spark for python to load data and run sql queries'\n",
      " 'employed population by occupation and age'\n",
      " 'environment statistics database - water'\n",
      " 'this week in data science (february 28, 2017)'\n",
      " 'airbnb data for analytics: trentino reviews'\n",
      " 'share the (pixiedust) magic – ibm watson data lab – medium']\n"
     ]
    }
   ],
   "execution_count": 327
  },
  {
   "cell_type": "markdown",
   "metadata": {},
   "source": [
    "`5.` Use your functions from above to correctly fill in the solutions to the dictionary below.  Then test your dictionary against the solution.  Provide the code you need to answer each following the comments below."
   ]
  },
  {
   "cell_type": "code",
   "metadata": {
    "ExecuteTime": {
     "end_time": "2025-03-28T11:43:07.119222Z",
     "start_time": "2025-03-28T11:43:03.280824Z"
    }
   },
   "source": [
    "print(get_top_sorted_users(1, user_item=user_item).head(n=1))\n",
    "print(get_top_sorted_users(2, user_item=user_item).head(n=10))\n",
    "print(get_top_sorted_users(131, user_item=user_item).head(n=10))"
   ],
   "outputs": [
    {
     "name": "stdout",
     "output_type": "stream",
     "text": [
      "   neighbor_id  similarity  num_interactions\n",
      "0         3933    0.986013                35\n",
      "   neighbor_id  similarity  num_interactions\n",
      "0         5083    0.730297                 5\n",
      "1         1552    0.577350                 2\n",
      "2         1890    0.577350                 2\n",
      "3         1372    0.471405                 3\n",
      "4         2941    0.433013                 8\n",
      "5         3586    0.408248                 4\n",
      "6         2595    0.408248                 1\n",
      "7          331    0.408248                 1\n",
      "8         2597    0.408248                 1\n",
      "9          701    0.408248                 1\n",
      "   neighbor_id  similarity  num_interactions\n",
      "0         3870    0.986667                75\n",
      "1         4459    0.388909                96\n",
      "2          203    0.388909                96\n",
      "3         3782    0.387585               135\n",
      "4         4932    0.384308                52\n",
      "5           40    0.384308                52\n",
      "6           23    0.377647               135\n",
      "7          242    0.375823                59\n",
      "8         3910    0.372678                60\n",
      "9          383    0.367423                32\n"
     ]
    }
   ],
   "execution_count": 328
  },
  {
   "cell_type": "code",
   "metadata": {
    "ExecuteTime": {
     "end_time": "2025-03-28T11:43:11.059767Z",
     "start_time": "2025-03-28T11:43:07.124359Z"
    }
   },
   "source": [
    "### Tests with a dictionary of results\n",
    "user1_most_sim =  get_top_sorted_users(1)[\"neighbor_id\"][0]# Find the user that is most similar to user 1 \n",
    "user2_6th_sim =  get_top_sorted_users(2)[\"neighbor_id\"][5]# Find the 6th most similar user to user 2\n",
    "user131_10th_sim =  get_top_sorted_users(131)[\"neighbor_id\"][9]# Find the 10th most similar user to user 131"
   ],
   "outputs": [],
   "execution_count": 329
  },
  {
   "cell_type": "code",
   "metadata": {
    "ExecuteTime": {
     "end_time": "2025-03-28T11:43:11.065224Z",
     "start_time": "2025-03-28T11:43:11.061122Z"
    }
   },
   "source": [
    "## Dictionary Test Here\n",
    "sol_5_dict = {\n",
    "    'The user that is most similar to user 1.': user1_most_sim, \n",
    "    'The user that is the 6th most similar to user 2.': user2_6th_sim,\n",
    "    'The user that is the 10th most similar to user 131.': user131_10th_sim,\n",
    "}\n",
    "\n",
    "t.sol_5_test(sol_5_dict)"
   ],
   "outputs": [
    {
     "name": "stdout",
     "output_type": "stream",
     "text": [
      "This all looks good!  Nice job!\n"
     ]
    }
   ],
   "execution_count": 330
  },
  {
   "cell_type": "markdown",
   "metadata": {},
   "source": [
    "`6.` If we were given a new user, which of the above functions would you be able to use to make recommendations?  Explain.  Can you think of a better way we might make recommendations?  Use the cell below to explain a better method for new users."
   ]
  },
  {
   "cell_type": "markdown",
   "metadata": {},
   "source": [
    "Answer:\n",
    "\n",
    "If no user history is available, we can not use a recommendation based on user similarity. Therefore, we could only recommend articles based on how many interactions they have: *get_top_articles*"
   ]
  },
  {
   "cell_type": "markdown",
   "metadata": {},
   "source": [
    "`7.` Using your existing functions, provide the top 10 recommended articles you would provide for the a new user below.  You can test your function against our thoughts to make sure we are all on the same page with how we might make a recommendation."
   ]
  },
  {
   "cell_type": "code",
   "metadata": {
    "ExecuteTime": {
     "end_time": "2025-03-28T11:43:11.070091Z",
     "start_time": "2025-03-28T11:43:11.065997Z"
    }
   },
   "source": [
    "# What would your recommendations be for this new user 0?  As a new user, they have no observed articles.\n",
    "# Provide a list of the top 10 article ids you would give to \n",
    "new_user_recs = get_top_article_ids(10)\n"
   ],
   "outputs": [],
   "execution_count": 331
  },
  {
   "cell_type": "code",
   "metadata": {
    "ExecuteTime": {
     "end_time": "2025-03-28T11:43:11.074065Z",
     "start_time": "2025-03-28T11:43:11.071011Z"
    }
   },
   "source": [
    "assert set(new_user_recs) == {1314, 1429, 1293, 1427, 1162, 1364, 1304, 1170, 1431, 1330}, \"Oops!  It makes sense that in this case we would want to recommend the most popular articles, because we don't know anything about these users.\"\n",
    "\n",
    "print(\"That's right!  Nice job!\")"
   ],
   "outputs": [
    {
     "name": "stdout",
     "output_type": "stream",
     "text": [
      "That's right!  Nice job!\n"
     ]
    }
   ],
   "execution_count": 332
  },
  {
   "cell_type": "markdown",
   "metadata": {},
   "source": [
    "### <a class=\"anchor\" id=\"Content-Recs\">Part IV: Content Based Recommendations</a>\n",
    "\n",
    "Another method we might use to make recommendations is to recommend similar articles that are possibly related. One way we can find article relationships is by clustering text about those articles.  Let's consider content to be the article **title**, as it is the only text we have available. One point to highlight, there isn't one way to create a content based recommendation, especially considering that text information can be processed in many ways.  \n",
    "\n",
    "`1.` Use the function bodies below to create a content based recommender function `make_content_recs`. We'll use TF-IDF to create a matrix based off article titles, and use this matrix to create clusters of related articles. You can use this function to make recommendations of new articles."
   ]
  },
  {
   "cell_type": "code",
   "metadata": {
    "ExecuteTime": {
     "end_time": "2025-03-28T11:43:11.080455Z",
     "start_time": "2025-03-28T11:43:11.074790Z"
    }
   },
   "source": [
    "df.head()"
   ],
   "outputs": [
    {
     "data": {
      "text/plain": [
       "   Unnamed: 0  article_id  \\\n",
       "0           0        1430   \n",
       "1           1        1314   \n",
       "2           2        1429   \n",
       "3           3        1338   \n",
       "4           4        1276   \n",
       "\n",
       "                                                                              title  \\\n",
       "0  using pixiedust for fast, flexible, and easier data analysis and experimentation   \n",
       "1                                      healthcare python streaming application demo   \n",
       "2                                        use deep learning for image classification   \n",
       "3                                         ml optimization using cognitive assistant   \n",
       "4                                         deploy your python model as a restful api   \n",
       "\n",
       "   user_id  \n",
       "0        1  \n",
       "1        2  \n",
       "2        3  \n",
       "3        4  \n",
       "4        5  "
      ],
      "text/html": [
       "<div>\n",
       "<style scoped>\n",
       "    .dataframe tbody tr th:only-of-type {\n",
       "        vertical-align: middle;\n",
       "    }\n",
       "\n",
       "    .dataframe tbody tr th {\n",
       "        vertical-align: top;\n",
       "    }\n",
       "\n",
       "    .dataframe thead th {\n",
       "        text-align: right;\n",
       "    }\n",
       "</style>\n",
       "<table border=\"1\" class=\"dataframe\">\n",
       "  <thead>\n",
       "    <tr style=\"text-align: right;\">\n",
       "      <th></th>\n",
       "      <th>Unnamed: 0</th>\n",
       "      <th>article_id</th>\n",
       "      <th>title</th>\n",
       "      <th>user_id</th>\n",
       "    </tr>\n",
       "  </thead>\n",
       "  <tbody>\n",
       "    <tr>\n",
       "      <th>0</th>\n",
       "      <td>0</td>\n",
       "      <td>1430</td>\n",
       "      <td>using pixiedust for fast, flexible, and easier data analysis and experimentation</td>\n",
       "      <td>1</td>\n",
       "    </tr>\n",
       "    <tr>\n",
       "      <th>1</th>\n",
       "      <td>1</td>\n",
       "      <td>1314</td>\n",
       "      <td>healthcare python streaming application demo</td>\n",
       "      <td>2</td>\n",
       "    </tr>\n",
       "    <tr>\n",
       "      <th>2</th>\n",
       "      <td>2</td>\n",
       "      <td>1429</td>\n",
       "      <td>use deep learning for image classification</td>\n",
       "      <td>3</td>\n",
       "    </tr>\n",
       "    <tr>\n",
       "      <th>3</th>\n",
       "      <td>3</td>\n",
       "      <td>1338</td>\n",
       "      <td>ml optimization using cognitive assistant</td>\n",
       "      <td>4</td>\n",
       "    </tr>\n",
       "    <tr>\n",
       "      <th>4</th>\n",
       "      <td>4</td>\n",
       "      <td>1276</td>\n",
       "      <td>deploy your python model as a restful api</td>\n",
       "      <td>5</td>\n",
       "    </tr>\n",
       "  </tbody>\n",
       "</table>\n",
       "</div>"
      ]
     },
     "execution_count": 333,
     "metadata": {},
     "output_type": "execute_result"
    }
   ],
   "execution_count": 333
  },
  {
   "cell_type": "code",
   "metadata": {
    "ExecuteTime": {
     "end_time": "2025-03-28T11:43:11.085829Z",
     "start_time": "2025-03-28T11:43:11.081531Z"
    }
   },
   "source": [
    "from sklearn.cluster import KMeans\n",
    "from sklearn.feature_extraction.text import TfidfVectorizer\n",
    "from sklearn.pipeline import make_pipeline\n",
    "from sklearn.preprocessing import Normalizer\n",
    "from sklearn.decomposition import TruncatedSVD"
   ],
   "outputs": [],
   "execution_count": 334
  },
  {
   "cell_type": "code",
   "metadata": {
    "ExecuteTime": {
     "end_time": "2025-03-28T11:43:11.092790Z",
     "start_time": "2025-03-28T11:43:11.086663Z"
    }
   },
   "source": [
    "# unique articles\n",
    "df_unique_articles = df.drop_duplicates(subset=[\"article_id\"], keep=\"first\")"
   ],
   "outputs": [],
   "execution_count": 335
  },
  {
   "cell_type": "code",
   "metadata": {
    "ExecuteTime": {
     "end_time": "2025-03-28T11:43:11.214712Z",
     "start_time": "2025-03-28T11:43:11.094219Z"
    }
   },
   "source": [
    "# Create a vectorizer using TfidfVectorizer and fit it to the article titles\n",
    "max_features = 200\n",
    "max_df = 0.75\n",
    "min_df = 5\n",
    "\n",
    "vectorizer = TfidfVectorizer(\n",
    "    max_df=max_df,\n",
    "    min_df=min_df,\n",
    "    stop_words=\"english\",\n",
    "    max_features=max_features,\n",
    ")\n",
    "print(\"Running TF-IDF\")\n",
    "X_tfidf = vectorizer.fit_transform(df_unique_articles[\"title\"]) # Fit the vectorizer to the article titles\n",
    "\n",
    "print(f\"n_samples: {X_tfidf.shape[0]}, n_features: {X_tfidf.shape[1]}\")\n",
    "\n",
    "lsa = make_pipeline(TruncatedSVD(n_components=50), Normalizer(copy=False))\n",
    "X_lsa = lsa.fit_transform(X_tfidf)# Fit the LSA model to the vectorized article titles\n",
    "explained_variance = lsa[0].explained_variance_ratio_.sum()\n",
    "\n",
    "print(f\"Explained variance of the SVD step: {explained_variance * 100:.1f}%\")"
   ],
   "outputs": [
    {
     "name": "stdout",
     "output_type": "stream",
     "text": [
      "Running TF-IDF\n",
      "n_samples: 714, n_features: 125\n",
      "Explained variance of the SVD step: 76.0%\n"
     ]
    }
   ],
   "execution_count": 336
  },
  {
   "cell_type": "code",
   "metadata": {
    "ExecuteTime": {
     "end_time": "2025-03-28T11:43:14.504833Z",
     "start_time": "2025-03-28T11:43:11.219141Z"
    }
   },
   "source": [
    "# Let's map the inertia for different number of clusters to find the optimal number of clusters\n",
    "# We'll plot it to see the elbow\n",
    "inertia = []\n",
    "clusters = 300\n",
    "step = 25\n",
    "max_iter = 50\n",
    "n_init = 5\n",
    "random_state = 42\n",
    "for k in range(1, clusters, step):\n",
    "    kmeans = KMeans(\n",
    "        n_clusters=k,\n",
    "        max_iter=max_iter,\n",
    "        n_init=n_init,\n",
    "        random_state=random_state,\n",
    "    ).fit(X_lsa)\n",
    "    # inertia is the sum of squared distances to the closest cluster center\n",
    "    inertia.append(kmeans.inertia_)\n",
    "plt.plot(range(1, clusters, step), inertia)\n",
    "plt.xlabel('Number of clusters')"
   ],
   "outputs": [
    {
     "data": {
      "text/plain": [
       "Text(0.5, 0, 'Number of clusters')"
      ]
     },
     "execution_count": 337,
     "metadata": {},
     "output_type": "execute_result"
    },
    {
     "data": {
      "text/plain": [
       "<Figure size 640x480 with 1 Axes>"
      ],
      "image/png": "[encoded data removed]"
     },
     "metadata": {},
     "output_type": "display_data"
    }
   ],
   "execution_count": 337
  },
  {
   "cell_type": "markdown",
   "metadata": {},
   "source": [
    "There appears to be an elbow about 50, so we'll use 50 clusters."
   ]
  },
  {
   "cell_type": "code",
   "metadata": {
    "ExecuteTime": {
     "end_time": "2025-03-28T11:43:14.589259Z",
     "start_time": "2025-03-28T11:43:14.508361Z"
    }
   },
   "source": [
    "n_clusters = 50\n",
    "kmeans = KMeans(\n",
    "        n_clusters=n_clusters,\n",
    "        max_iter=max_iter,\n",
    "        n_init=n_init,\n",
    "        random_state=random_state,\n",
    ").fit(X_lsa)"
   ],
   "outputs": [],
   "execution_count": 338
  },
  {
   "cell_type": "code",
   "metadata": {
    "ExecuteTime": {
     "end_time": "2025-03-28T11:43:14.618968Z",
     "start_time": "2025-03-28T11:43:14.592587Z"
    }
   },
   "source": [
    "# create a new column `title_cluster` and assign it the kmeans cluster labels\n",
    "# First we need to map the labels to df_unique_articles article ids and then apply those to df\n",
    "\n",
    "pred_cluster = kmeans.predict(X_lsa)\n",
    "article_cluster_map = dict(zip(df_unique_articles['article_id'], pred_cluster))\n",
    "\n",
    "df['title_cluster'] = df['article_id'].map(article_cluster_map)# apply map to create title clusters"
   ],
   "outputs": [],
   "execution_count": 339
  },
  {
   "cell_type": "code",
   "metadata": {
    "ExecuteTime": {
     "end_time": "2025-03-28T11:43:14.641076Z",
     "start_time": "2025-03-28T11:43:14.621735Z"
    }
   },
   "source": [
    "# Let's check the number of articles in each cluster\n",
    "np.array(np.unique(kmeans.labels_, return_counts=True)).T"
   ],
   "outputs": [
    {
     "data": {
      "text/plain": [
       "array([[ 0, 23],\n",
       "       [ 1, 10],\n",
       "       [ 2, 65],\n",
       "       [ 3, 10],\n",
       "       [ 4, 32],\n",
       "       [ 5,  9],\n",
       "       [ 6, 23],\n",
       "       [ 7, 31],\n",
       "       [ 8, 16],\n",
       "       [ 9, 15],\n",
       "       [10, 37],\n",
       "       [11, 20],\n",
       "       [12, 16],\n",
       "       [13, 10],\n",
       "       [14, 14],\n",
       "       [15, 28],\n",
       "       [16,  9],\n",
       "       [17,  4],\n",
       "       [18, 11],\n",
       "       [19, 20],\n",
       "       [20,  7],\n",
       "       [21, 13],\n",
       "       [22,  8],\n",
       "       [23,  7],\n",
       "       [24, 11],\n",
       "       [25, 22],\n",
       "       [26, 10],\n",
       "       [27,  8],\n",
       "       [28, 11],\n",
       "       [29,  8],\n",
       "       [30, 11],\n",
       "       [31,  9],\n",
       "       [32, 12],\n",
       "       [33,  7],\n",
       "       [34, 19],\n",
       "       [35,  8],\n",
       "       [36,  7],\n",
       "       [37,  8],\n",
       "       [38,  9],\n",
       "       [39, 10],\n",
       "       [40, 11],\n",
       "       [41, 11],\n",
       "       [42, 11],\n",
       "       [43,  9],\n",
       "       [44, 19],\n",
       "       [45,  9],\n",
       "       [46,  6],\n",
       "       [47,  3],\n",
       "       [48,  5],\n",
       "       [49, 22]])"
      ]
     },
     "execution_count": 340,
     "metadata": {},
     "output_type": "execute_result"
    }
   ],
   "execution_count": 340
  },
  {
   "cell_type": "code",
   "metadata": {
    "ExecuteTime": {
     "end_time": "2025-03-28T11:43:14.655947Z",
     "start_time": "2025-03-28T11:43:14.645682Z"
    }
   },
   "source": [
    "def get_similar_articles(article_id, df=df):\n",
    "    \"\"\"\n",
    "    INPUT:\n",
    "    article_id - (int) an article id \n",
    "    df - (pandas dataframe) df as defined at the top of the notebook \n",
    "    \n",
    "    OUTPUT:\n",
    "    article_ids - (list) a list of article ids that are in the same title cluster\n",
    "    \n",
    "    Description:\n",
    "    Returns a list of the article ids that are in the same title cluster\n",
    "    \"\"\"\n",
    "     # Your code here\n",
    "    title_cluster = df.loc[df[\"article_id\"] == article_id, \"title_cluster\"].values[0]\n",
    "    articles_in_cluster = df[df[\"title_cluster\"]==title_cluster]\n",
    "\n",
    "    # remove the input article_id from the list\n",
    "    articles_in_cluster = articles_in_cluster[articles_in_cluster[\"article_id\"] != article_id]\n",
    "        \n",
    "    articles_in_cluster = articles_in_cluster[\"article_id\"].unique().tolist()\n",
    "    \n",
    "    return articles_in_cluster"
   ],
   "outputs": [],
   "execution_count": 341
  },
  {
   "cell_type": "code",
   "metadata": {
    "ExecuteTime": {
     "end_time": "2025-03-28T11:43:14.668063Z",
     "start_time": "2025-03-28T11:43:14.659091Z"
    }
   },
   "source": [
    "def make_content_recs(article_id, n, df=df):\n",
    "    \"\"\"\n",
    "    INPUT:\n",
    "    article_id - (int) an article id\n",
    "    n - (int) the number of recommendations you want similar to the article id\n",
    "    df - (pandas dataframe) df as defined at the top of the notebook\n",
    "    \n",
    "    OUTPUT:\n",
    "    n_ranked_similar_articles - (list) a list of article ids that are in the same title cluster ranked\n",
    "                                by popularity\n",
    "    n_ranked_article_names - (list) a list of article names associated with the list of article ids\n",
    "    \n",
    "    Description:\n",
    "    Returns a list of the n most ranked similar articles to a given article_id based on the title\n",
    "    cluster in df. Rank similar articles using the function get_ranked_article_unique_counts.\n",
    "    \"\"\"\n",
    "    similar_articles = get_similar_articles(article_id)\n",
    "    \n",
    "    n_ranked_similar_articles = get_ranked_article_unique_counts(similar_articles)[:n]\n",
    "    n_ranked_similar_articles = [sublist[0] for sublist in n_ranked_similar_articles]\n",
    "    \n",
    "    n_ranked_article_names = get_article_names(n_ranked_similar_articles)\n",
    "    \n",
    "    return n_ranked_similar_articles, n_ranked_article_names\n",
    "        "
   ],
   "outputs": [],
   "execution_count": 342
  },
  {
   "cell_type": "code",
   "metadata": {
    "ExecuteTime": {
     "end_time": "2025-03-28T11:43:14.697114Z",
     "start_time": "2025-03-28T11:43:14.672640Z"
    }
   },
   "source": [
    "# Test out your content recommendations given artice_id 25\n",
    "rec_article_ids, rec_article_titles = make_content_recs(25, 10)\n",
    "print(rec_article_ids)\n",
    "print(rec_article_titles)"
   ],
   "outputs": [
    {
     "name": "stdout",
     "output_type": "stream",
     "text": [
      "[1025, 101, 975, 766, 508, 547, 132, 878, 92, 693]\n",
      "['better together: spss and data science experience'\n",
      " 'data science in the cloud' 'collecting data science cheat sheets'\n",
      " 'making data science a team sport'\n",
      " 'how to choose a project to practice data science'\n",
      " 'data tidying in data science experience' 'trust in data science'\n",
      " 'the data science process'\n",
      " '10 data science podcasts you need to be listening to right now'\n",
      " '9 mistakes to avoid when starting your career in data science']\n"
     ]
    }
   ],
   "execution_count": 343
  },
  {
   "cell_type": "code",
   "metadata": {
    "ExecuteTime": {
     "end_time": "2025-03-28T11:43:14.709519Z",
     "start_time": "2025-03-28T11:43:14.705034Z"
    }
   },
   "source": [
    "assert len({1025, 593, 349, 821, 464, 29, 1042, 693, 524, 352}.intersection(set(rec_article_ids))) > 0, \"Oops! Your the make_content_recs function doesn't work quite how we expect.\""
   ],
   "outputs": [],
   "execution_count": 344
  },
  {
   "cell_type": "markdown",
   "metadata": {},
   "source": [
    "`2.` Now that you have put together your content-based recommendation system, use the cell below to write a summary explaining how your content based recommender works.  Do you see any possible improvements that could be made to your function? What other text data would be useful to help make better recommendations besides the article title?"
   ]
  },
  {
   "cell_type": "markdown",
   "metadata": {},
   "source": [
    "**Answer:**\n",
    "\n",
    "The content-based recommendation system works by extracting information from article titles using natural language processing (TF-IDF). A vocabulary of 125 terms is extracted and used to cluster the titles into 50 distinct clusters. The number of clusters was determined by analyzing the elbow point of the scree plot. \n",
    "\n",
    "When recommending articles, those that belong to the same cluster as the provided article are suggested, with higher-ranked articles being prioritized. \n",
    "\n",
    "To improve the content-based recommendation system, it would be beneficial to include additional information beyond just the title. Specifically, the article text data would provide deeper insights into the full article content. Additionally, metadata such as the publication date and author could further enhance the clustering process, by including factors like recency and authorship, allowing the system to make more relevant and timely recommendations.\n"
   ]
  },
  {
   "cell_type": "markdown",
   "metadata": {},
   "source": [
    "### <a class=\"anchor\" id=\"Matrix-Fact\">Part V: Matrix Factorization</a>\n",
    "\n",
    "In this part of the notebook, you will build use matrix factorization to make article recommendations to users.\n",
    "\n",
    "`1.` You should have already created a **user_item** matrix above in **question 1** of **Part III** above.  This first question here will just require that you run the cells to get things set up for the rest of **Part V** of the notebook. "
   ]
  },
  {
   "cell_type": "code",
   "metadata": {
    "ExecuteTime": {
     "end_time": "2025-03-28T11:43:14.730939Z",
     "start_time": "2025-03-28T11:43:14.711310Z"
    }
   },
   "source": [
    "# quick look at the matrix\n",
    "user_item.head()"
   ],
   "outputs": [
    {
     "data": {
      "text/plain": [
       "article_id  0  100  1000  1004  1006  1008  101  1014  1015  1016  ...  977  \\\n",
       "user_id                                                            ...        \n",
       "1           0    0     0     0     0     0    0     0     0     0  ...    0   \n",
       "2           0    0     0     0     0     0    0     0     0     0  ...    0   \n",
       "3           0    0     0     0     0     0    0     0     0     0  ...    1   \n",
       "4           0    0     0     0     0     0    0     0     0     0  ...    0   \n",
       "5           0    0     0     0     0     0    0     0     0     0  ...    0   \n",
       "\n",
       "article_id  98  981  984  985  986  990  993  996  997  \n",
       "user_id                                                 \n",
       "1            0    1    0    0    0    0    0    0    0  \n",
       "2            0    0    0    0    0    0    0    0    0  \n",
       "3            0    0    0    0    0    0    0    0    0  \n",
       "4            0    0    0    0    0    0    0    0    0  \n",
       "5            0    0    0    0    0    0    0    0    0  \n",
       "\n",
       "[5 rows x 714 columns]"
      ],
      "text/html": [
       "<div>\n",
       "<style scoped>\n",
       "    .dataframe tbody tr th:only-of-type {\n",
       "        vertical-align: middle;\n",
       "    }\n",
       "\n",
       "    .dataframe tbody tr th {\n",
       "        vertical-align: top;\n",
       "    }\n",
       "\n",
       "    .dataframe thead th {\n",
       "        text-align: right;\n",
       "    }\n",
       "</style>\n",
       "<table border=\"1\" class=\"dataframe\">\n",
       "  <thead>\n",
       "    <tr style=\"text-align: right;\">\n",
       "      <th>article_id</th>\n",
       "      <th>0</th>\n",
       "      <th>100</th>\n",
       "      <th>1000</th>\n",
       "      <th>1004</th>\n",
       "      <th>1006</th>\n",
       "      <th>1008</th>\n",
       "      <th>101</th>\n",
       "      <th>1014</th>\n",
       "      <th>1015</th>\n",
       "      <th>1016</th>\n",
       "      <th>...</th>\n",
       "      <th>977</th>\n",
       "      <th>98</th>\n",
       "      <th>981</th>\n",
       "      <th>984</th>\n",
       "      <th>985</th>\n",
       "      <th>986</th>\n",
       "      <th>990</th>\n",
       "      <th>993</th>\n",
       "      <th>996</th>\n",
       "      <th>997</th>\n",
       "    </tr>\n",
       "    <tr>\n",
       "      <th>user_id</th>\n",
       "      <th></th>\n",
       "      <th></th>\n",
       "      <th></th>\n",
       "      <th></th>\n",
       "      <th></th>\n",
       "      <th></th>\n",
       "      <th></th>\n",
       "      <th></th>\n",
       "      <th></th>\n",
       "      <th></th>\n",
       "      <th></th>\n",
       "      <th></th>\n",
       "      <th></th>\n",
       "      <th></th>\n",
       "      <th></th>\n",
       "      <th></th>\n",
       "      <th></th>\n",
       "      <th></th>\n",
       "      <th></th>\n",
       "      <th></th>\n",
       "      <th></th>\n",
       "    </tr>\n",
       "  </thead>\n",
       "  <tbody>\n",
       "    <tr>\n",
       "      <th>1</th>\n",
       "      <td>0</td>\n",
       "      <td>0</td>\n",
       "      <td>0</td>\n",
       "      <td>0</td>\n",
       "      <td>0</td>\n",
       "      <td>0</td>\n",
       "      <td>0</td>\n",
       "      <td>0</td>\n",
       "      <td>0</td>\n",
       "      <td>0</td>\n",
       "      <td>...</td>\n",
       "      <td>0</td>\n",
       "      <td>0</td>\n",
       "      <td>1</td>\n",
       "      <td>0</td>\n",
       "      <td>0</td>\n",
       "      <td>0</td>\n",
       "      <td>0</td>\n",
       "      <td>0</td>\n",
       "      <td>0</td>\n",
       "      <td>0</td>\n",
       "    </tr>\n",
       "    <tr>\n",
       "      <th>2</th>\n",
       "      <td>0</td>\n",
       "      <td>0</td>\n",
       "      <td>0</td>\n",
       "      <td>0</td>\n",
       "      <td>0</td>\n",
       "      <td>0</td>\n",
       "      <td>0</td>\n",
       "      <td>0</td>\n",
       "      <td>0</td>\n",
       "      <td>0</td>\n",
       "      <td>...</td>\n",
       "      <td>0</td>\n",
       "      <td>0</td>\n",
       "      <td>0</td>\n",
       "      <td>0</td>\n",
       "      <td>0</td>\n",
       "      <td>0</td>\n",
       "      <td>0</td>\n",
       "      <td>0</td>\n",
       "      <td>0</td>\n",
       "      <td>0</td>\n",
       "    </tr>\n",
       "    <tr>\n",
       "      <th>3</th>\n",
       "      <td>0</td>\n",
       "      <td>0</td>\n",
       "      <td>0</td>\n",
       "      <td>0</td>\n",
       "      <td>0</td>\n",
       "      <td>0</td>\n",
       "      <td>0</td>\n",
       "      <td>0</td>\n",
       "      <td>0</td>\n",
       "      <td>0</td>\n",
       "      <td>...</td>\n",
       "      <td>1</td>\n",
       "      <td>0</td>\n",
       "      <td>0</td>\n",
       "      <td>0</td>\n",
       "      <td>0</td>\n",
       "      <td>0</td>\n",
       "      <td>0</td>\n",
       "      <td>0</td>\n",
       "      <td>0</td>\n",
       "      <td>0</td>\n",
       "    </tr>\n",
       "    <tr>\n",
       "      <th>4</th>\n",
       "      <td>0</td>\n",
       "      <td>0</td>\n",
       "      <td>0</td>\n",
       "      <td>0</td>\n",
       "      <td>0</td>\n",
       "      <td>0</td>\n",
       "      <td>0</td>\n",
       "      <td>0</td>\n",
       "      <td>0</td>\n",
       "      <td>0</td>\n",
       "      <td>...</td>\n",
       "      <td>0</td>\n",
       "      <td>0</td>\n",
       "      <td>0</td>\n",
       "      <td>0</td>\n",
       "      <td>0</td>\n",
       "      <td>0</td>\n",
       "      <td>0</td>\n",
       "      <td>0</td>\n",
       "      <td>0</td>\n",
       "      <td>0</td>\n",
       "    </tr>\n",
       "    <tr>\n",
       "      <th>5</th>\n",
       "      <td>0</td>\n",
       "      <td>0</td>\n",
       "      <td>0</td>\n",
       "      <td>0</td>\n",
       "      <td>0</td>\n",
       "      <td>0</td>\n",
       "      <td>0</td>\n",
       "      <td>0</td>\n",
       "      <td>0</td>\n",
       "      <td>0</td>\n",
       "      <td>...</td>\n",
       "      <td>0</td>\n",
       "      <td>0</td>\n",
       "      <td>0</td>\n",
       "      <td>0</td>\n",
       "      <td>0</td>\n",
       "      <td>0</td>\n",
       "      <td>0</td>\n",
       "      <td>0</td>\n",
       "      <td>0</td>\n",
       "      <td>0</td>\n",
       "    </tr>\n",
       "  </tbody>\n",
       "</table>\n",
       "<p>5 rows × 714 columns</p>\n",
       "</div>"
      ]
     },
     "execution_count": 345,
     "metadata": {},
     "output_type": "execute_result"
    }
   ],
   "execution_count": 345
  },
  {
   "cell_type": "markdown",
   "metadata": {},
   "source": [
    "`2.` In this situation, you can use Singular Value Decomposition from [scikit-learn](https://scikit-learn.org/stable/modules/generated/sklearn.decomposition.TruncatedSVD.html) on the user-item matrix.  Use the cell to perform SVD."
   ]
  },
  {
   "cell_type": "code",
   "metadata": {
    "ExecuteTime": {
     "end_time": "2025-03-28T11:43:24.412733Z",
     "start_time": "2025-03-28T11:43:14.733466Z"
    }
   },
   "source": [
    "from sklearn.decomposition import TruncatedSVD\n",
    "from sklearn.metrics import precision_score, recall_score, accuracy_score\n",
    "# Using the full number of components which equals the number of columns\n",
    "svd = TruncatedSVD(n_components=len(user_item.columns), n_iter=5, random_state=42)\n",
    "\n",
    "u = svd.fit_transform(user_item)\n",
    "v = svd.components_\n",
    "s = svd.singular_values_ \n",
    "print('u', u.shape)\n",
    "print('s', s.shape)\n",
    "print('vt', v.shape)"
   ],
   "outputs": [
    {
     "name": "stdout",
     "output_type": "stream",
     "text": [
      "u (5149, 714)\n",
      "s (714,)\n",
      "vt (714, 714)\n"
     ]
    }
   ],
   "execution_count": 346
  },
  {
   "cell_type": "markdown",
   "metadata": {},
   "source": [
    "`3.` Now for the tricky part, how do we choose the number of latent features to use?  Running the below cell, you can see that as the number of latent features increases, we obtain better metrics when making predictions for the 1 and 0 values in the user-item matrix.  Run the cell below to get an idea of how our metrics improve as we increase the number of latent features."
   ]
  },
  {
   "cell_type": "markdown",
   "metadata": {},
   "source": []
  },
  {
   "cell_type": "code",
   "metadata": {
    "ExecuteTime": {
     "end_time": "2025-03-28T11:43:41.534105Z",
     "start_time": "2025-03-28T11:43:24.416376Z"
    }
   },
   "source": [
    "num_latent_feats = np.arange(10, 700+10, 20)\n",
    "metric_scores = []\n",
    "\n",
    "for k in num_latent_feats:\n",
    "    # restructure with k latent features\n",
    "    u_new, vt_new = u[:, :k], v[:k, :]\n",
    "    \n",
    "    # take dot product\n",
    "    user_item_est = abs(np.around(np.dot(u_new, vt_new))).astype(int)\n",
    "    # make sure the values are between 0 and 1\n",
    "    user_item_est = np.clip(user_item_est, 0, 1)\n",
    "    \n",
    "    # total errors and keep track of them\n",
    "    acc = accuracy_score(user_item.values.flatten(), user_item_est.flatten())\n",
    "    precision = precision_score(user_item.values.flatten(), user_item_est.flatten())\n",
    "    recall = recall_score(user_item.values.flatten(), user_item_est.flatten())\n",
    "    metric_scores.append([acc, precision, recall])\n",
    "    \n",
    "    \n",
    "plt.plot(num_latent_feats, metric_scores, label=['Accuracy', 'Precision', 'Recall'])\n",
    "plt.legend()\n",
    "plt.xlabel('Number of Latent Features')\n",
    "plt.title('Metrics vs. Number of Latent Features')"
   ],
   "outputs": [
    {
     "data": {
      "text/plain": [
       "Text(0.5, 1.0, 'Metrics vs. Number of Latent Features')"
      ]
     },
     "execution_count": 347,
     "metadata": {},
     "output_type": "execute_result"
    },
    {
     "data": {
      "text/plain": [
       "<Figure size 640x480 with 1 Axes>"
      ],
      "image/png": "[encoded data removed]"
     },
     "metadata": {},
     "output_type": "display_data"
    }
   ],
   "execution_count": 347
  },
  {
   "cell_type": "markdown",
   "metadata": {},
   "source": [
    "`4.` From the above, we can't really be sure how many features to use, because simply having a better way to predict the 1's and 0's of the matrix doesn't exactly give us an indication of if we are able to make good recommendations. Given the plot above, what would you pick for the number of latent features and why?"
   ]
  },
  {
   "cell_type": "markdown",
   "metadata": {},
   "source": [
    "**Answer:**\n",
    "\n",
    "I would select the number of latent features at the elbow point which occurs around 200 latent features. While increasing the number of latent features improves recall, it could also make the model overly complex. It is important to find a balance between computational complexity and model performance, especially since the improvements stagnate after the elbow point."
   ]
  },
  {
   "metadata": {},
   "cell_type": "markdown",
   "source": ""
  },
  {
   "cell_type": "markdown",
   "metadata": {},
   "source": [
    "`5.` Using 200 latent features and the values of U, S, and V transpose we calculated above, create an article id recommendation function that finds similar article ids to the one provide.\n",
    "\n",
    "Create a list of 10 recommendations that are similar to article with id 4.  The function should provide these recommendations by finding articles that have the most similar latent features as the provided article."
   ]
  },
  {
   "metadata": {
    "ExecuteTime": {
     "end_time": "2025-03-28T11:43:41.561202Z",
     "start_time": "2025-03-28T11:43:41.535348Z"
    }
   },
   "cell_type": "code",
   "source": [
    "article_id = 100\n",
    "article_id = str(article_id)\n",
    "article_idx= user_item.columns.tolist().index(article_id)\n",
    "vt = v\n",
    "cos_sim = cosine_similarity(vt.T)\n",
    "\n",
    "article_sim = pd.DataFrame({\"sim\": cos_sim[article_idx],\n",
    "                            \"article_id\": user_item.columns.values\n",
    "                            })\n",
    "article_sim = article_sim.drop(article_idx)\n",
    "\n",
    "article_sim.sort_values(by=\"sim\", ascending=False, inplace=True, ignore_index=True)\n",
    "\n",
    "similar_article_id = article_sim[\"article_id\"]\n",
    "similarity = article_sim[\"sim\"]\n"
   ],
   "outputs": [],
   "execution_count": 348
  },
  {
   "cell_type": "code",
   "metadata": {
    "ExecuteTime": {
     "end_time": "2025-03-28T11:43:41.595129Z",
     "start_time": "2025-03-28T11:43:41.565351Z"
    }
   },
   "source": [
    "def get_svd_similar_article_ids(article_id, vt, user_item=user_item, include_similarity=False):\n",
    "    \"\"\"\n",
    "    INPUT:\n",
    "    article_id - (int) an article id\n",
    "    vt - (numpy array) vt matrix from SVD\n",
    "    user_item - (pandas dataframe) matrix of users by articles: \n",
    "                1's when a user has interacted with an article, 0 otherwise\n",
    "    include_similarity - (bool) whether to include the similarity in the output\n",
    "    \n",
    "    OUTPUT:\n",
    "    article_ids - (list) a list of article ids that are in the same title cluster\n",
    "    \n",
    "    Description:\n",
    "    Returns a list of the article ids similar using SVD factorization\n",
    "    \"\"\"\n",
    "    # Find the index of the article_id\n",
    "    article_id = str(article_id)\n",
    "    article_idx= user_item.columns.tolist().index(article_id)\n",
    "    # Find the cosine similarity of all articles\n",
    "    cos_sim = cosine_similarity(vt.T)\n",
    "    # Get similarities only for the cos_sim of the article_idx\n",
    "    article_sim = pd.DataFrame({\"sim\": cos_sim[article_idx],\n",
    "                            \"article_id\": user_item.columns.values\n",
    "                            })\n",
    "    \n",
    "    article_sim = article_sim.drop(article_idx)\n",
    "    # Sort and return the articles, don't include the own article\n",
    "    article_sim.sort_values(by=\"sim\", ascending=False, inplace=True, ignore_index=True)\n",
    "     \n",
    "    similar_article_id = article_sim[\"article_id\"].astype(int)\n",
    "    similarity = article_sim[\"sim\"]\n",
    "    \n",
    "    if include_similarity:\n",
    "        return [[similar_article_id, similarity]]\n",
    "    return similar_article_id.tolist()"
   ],
   "outputs": [],
   "execution_count": 349
  },
  {
   "cell_type": "code",
   "metadata": {
    "ExecuteTime": {
     "end_time": "2025-03-28T11:43:41.661394Z",
     "start_time": "2025-03-28T11:43:41.597499Z"
    }
   },
   "source": [
    "# Create a vt_new matrix with 200 latent features\n",
    "k = 200\n",
    "vt_new = v[:k, :]"
   ],
   "outputs": [],
   "execution_count": 350
  },
  {
   "cell_type": "code",
   "metadata": {
    "ExecuteTime": {
     "end_time": "2025-03-28T11:43:41.670602Z",
     "start_time": "2025-03-28T11:43:41.663865Z"
    }
   },
   "source": [
    "# What is the article name for article_id 4?\n",
    "print(\"Current article:\", get_article_names([4], df=df)[0])"
   ],
   "outputs": [
    {
     "name": "stdout",
     "output_type": "stream",
     "text": [
      "Current article: analyze ny restaurant data using spark in dsx\n"
     ]
    }
   ],
   "execution_count": 351
  },
  {
   "cell_type": "code",
   "metadata": {
    "ExecuteTime": {
     "end_time": "2025-03-28T11:43:41.704838Z",
     "start_time": "2025-03-28T11:43:41.673783Z"
    }
   },
   "source": [
    "# What are the top 10 most similar articles to article_id 4?\n",
    "rec_articles = get_svd_similar_article_ids(4, vt_new, user_item=user_item)[:10]\n",
    "rec_articles"
   ],
   "outputs": [
    {
     "data": {
      "text/plain": [
       "[1199, 1068, 486, 1202, 176, 1120, 244, 793, 58, 132]"
      ]
     },
     "execution_count": 352,
     "metadata": {},
     "output_type": "execute_result"
    }
   ],
   "execution_count": 352
  },
  {
   "cell_type": "code",
   "metadata": {
    "ExecuteTime": {
     "end_time": "2025-03-28T11:43:41.715955Z",
     "start_time": "2025-03-28T11:43:41.707846Z"
    }
   },
   "source": [
    "# What are the top 10 most similar articles to article_id 4?\n",
    "get_article_names(rec_articles, df=df)"
   ],
   "outputs": [
    {
     "data": {
      "text/plain": [
       "array(['use spark r to load and analyze data',\n",
       "       'collecting data science cheat sheets',\n",
       "       '10 powerful features on watson data platform, no coding necessary',\n",
       "       'notebooks: a power tool for data scientists',\n",
       "       'country statistics: crude oil - proved reserves',\n",
       "       'country statistics: crude oil - exports',\n",
       "       'top analytics tools in 2016',\n",
       "       'advancements in the spark community',\n",
       "       'airbnb data for analytics: paris calendar',\n",
       "       'airbnb data for analytics: athens reviews'], dtype=object)"
      ]
     },
     "execution_count": 353,
     "metadata": {},
     "output_type": "execute_result"
    }
   ],
   "execution_count": 353
  },
  {
   "cell_type": "code",
   "metadata": {
    "ExecuteTime": {
     "end_time": "2025-03-28T11:43:41.722152Z",
     "start_time": "2025-03-28T11:43:41.718117Z"
    }
   },
   "source": [
    "assert set(rec_articles) == {1199, 1068, 486, 1202, 176, 1120, 244, 793, 58, 132}, \"Oops! Your the get_svd_similar_article_ids function doesn't work quite how we expect.\"\n",
    "print(\"That's right!  Great job!\")"
   ],
   "outputs": [
    {
     "name": "stdout",
     "output_type": "stream",
     "text": [
      "That's right!  Great job!\n"
     ]
    }
   ],
   "execution_count": 354
  },
  {
   "metadata": {
    "ExecuteTime": {
     "end_time": "2025-03-28T11:43:41.740794Z",
     "start_time": "2025-03-28T11:43:41.728141Z"
    }
   },
   "cell_type": "code",
   "source": "make_content_recs(article_id=4, n=10)",
   "outputs": [
    {
     "data": {
      "text/plain": [
       "([1160, 1165, 1163, 1164, 865, 202, 131, 189, 1161, 708],\n",
       " array(['common excel tasks demonstrated in\\xa0pandas',\n",
       "        'analyze open data sets with pandas dataframes',\n",
       "        'analyze open data sets with spark & pixiedust',\n",
       "        'simple graphing with ipython and\\xa0pandas',\n",
       "        'analyze precipitation data',\n",
       "        'analyze accident reports on amazon emr spark',\n",
       "        'analyze traffic data from the city of san francisco',\n",
       "        'analyze open data sets using pandas in a python notebook',\n",
       "        'analyze data, build a dashboard with spark and pixiedust',\n",
       "        'load and analyze public data sets in dsx'], dtype=object))"
      ]
     },
     "execution_count": 355,
     "metadata": {},
     "output_type": "execute_result"
    }
   ],
   "execution_count": 355
  },
  {
   "cell_type": "markdown",
   "metadata": {
    "collapsed": true
   },
   "source": [
    "`6.` Use the cell below to comment on the results you found in the previous question. Given the circumstances of your results, discuss what you might do to determine if the recommendations you make above are an improvement to how users currently find articles, either by Sections 2, 3, or 4? Add any tradeoffs between each of the methods, and how you could leverage each type for different situations including new users with no history, recently new users with little history, and users with a lot of history. "
   ]
  },
  {
   "cell_type": "markdown",
   "metadata": {},
   "source": [
    "**Answer:**\n",
    "\n",
    "Each recommendation model has its strengths and limitations. While rank-based models do not provide personalized recommendations, they can work well for new users without prior history. For example, they are useful for a homepage showcasing the most frequently interacted-with articles. However, this approach tends to favor popular articles, making it less effective for newer or niche articles.\n",
    "\n",
    "User-user based collaborative filtering provides personalized recommendations based on similar users' preferences. This makes it ideal for sections that suggest articles liked by others with similar interests. However, since it does not consider article content, recommendations may not always be thematically relevant. Additionally, this method required user history and is computationally intensive due to pairwise similarity calculations.\n",
    "\n",
    "In contrast, content-based recommendations suggest articles based on their content. This approach is useful for recommending articles closely related to the one a user is currently reading. It also works well for new users, as it does not rely on user history. However, it may limit diversity, as it tends to recommend articles within the same topic range. \n",
    "\n",
    "Matrix-factorization provide recommendations based on hidden latent factors. This model is effective with sparse data and can, therefore, be used in situations where only little user history is available. However, this model lacks interpretability, making it difficult to explain why a particular article was recommended and what the hidden latent factors represent. \n",
    "\n",
    "To evaluate the effectivenss of these models, A/B testing can be implemented. Key metrics such as conversion rate, click-trough rate, and user engagement can help determine performance. Additionally, interleaved testing (presenting two recommendation models simultaneously) can be used to directly compare two models and evaluate which recommendations where preferred. \n",
    "\n",
    "Finally, since each model produces different recommendations, combining them may improve overall performance. For example, content-based recommendations for *article_id 4* focus primarily on the analytics aspect of the article title, while matrix factorization suggests a more diverse set of articles. A hybrid approach, blending content-based filtering for relevance with matrix factorization for diversity, could enhance recommendation quality by balancing specificity with broader exploration. The hybrid approach would of course need to be properly tested. \n"
   ]
  },
  {
   "cell_type": "code",
   "metadata": {
    "collapsed": true,
    "ExecuteTime": {
     "end_time": "2025-03-28T11:43:41.746065Z",
     "start_time": "2025-03-28T11:43:41.742727Z"
    }
   },
   "source": [
    "#from subprocess import call\n",
    "#call(['python', '-m', 'nbconvert', '--to html', 'Recommendations_with_IBM.ipynb'])"
   ],
   "outputs": [],
   "execution_count": 356
  }
 ],
 "metadata": {
  "kernelspec": {
   "display_name": "Python 3 (ipykernel)",
   "language": "python",
   "name": "python3"
  },
  "language_info": {
   "codemirror_mode": {
    "name": "ipython",
    "version": 3
   },
   "file_extension": ".py",
   "mimetype": "text/x-python",
   "name": "python",
   "nbconvert_exporter": "python",
   "pygments_lexer": "ipython3",
   "version": "3.10.13"
  }
 },
 "nbformat": 4,
 "nbformat_minor": 2
}
